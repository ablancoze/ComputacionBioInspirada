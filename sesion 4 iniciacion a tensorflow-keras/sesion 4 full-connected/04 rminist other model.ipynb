{
 "cells": [
  {
   "cell_type": "markdown",
   "metadata": {},
   "source": [
    "# 2 Redes neuronales densamente conectadas\n"
   ]
  },
  {
   "cell_type": "code",
   "execution_count": 1,
   "metadata": {
    "scrolled": true
   },
   "outputs": [
    {
     "name": "stdout",
     "output_type": "stream",
     "text": [
      "[name: \"/device:CPU:0\"\n",
      "device_type: \"CPU\"\n",
      "memory_limit: 268435456\n",
      "locality {\n",
      "}\n",
      "incarnation: 16734798520040518941\n",
      "]\n"
     ]
    }
   ],
   "source": [
    "\n",
    "from tensorflow.python.client import device_lib\n",
    "print(device_lib.list_local_devices())"
   ]
  },
  {
   "cell_type": "markdown",
   "metadata": {},
   "source": [
    "Precarga de los datos en Keras"
   ]
  },
  {
   "cell_type": "code",
   "execution_count": 3,
   "metadata": {},
   "outputs": [
    {
     "name": "stdout",
     "output_type": "stream",
     "text": [
      "Training data shape:  (60000, 28, 28)\n",
      "Test data shape (10000, 28, 28)\n",
      "First 5 training lables as one-hot encoded vectors:\n",
      " [[0. 0. 0. 0. 0. 1. 0. 0. 0. 0.]\n",
      " [1. 0. 0. 0. 0. 0. 0. 0. 0. 0.]\n",
      " [0. 0. 0. 0. 1. 0. 0. 0. 0. 0.]\n",
      " [0. 1. 0. 0. 0. 0. 0. 0. 0. 0.]\n",
      " [0. 0. 0. 0. 0. 0. 0. 0. 0. 1.]\n",
      " [0. 0. 1. 0. 0. 0. 0. 0. 0. 0.]\n",
      " [0. 1. 0. 0. 0. 0. 0. 0. 0. 0.]\n",
      " [0. 0. 0. 1. 0. 0. 0. 0. 0. 0.]\n",
      " [0. 1. 0. 0. 0. 0. 0. 0. 0. 0.]\n",
      " [0. 0. 0. 0. 1. 0. 0. 0. 0. 0.]]\n"
     ]
    }
   ],
   "source": [
    "from keras.datasets import mnist\n",
    "from keras import utils\n",
    "\n",
    "# Setup train and test splits\n",
    "(x_train, y_train), (x_test, y_test) = mnist.load_data()\n",
    "print(\"Training data shape: \", x_train.shape) # (60000, 28, 28) -- 60000 images, each 28x28 pixels\n",
    "print(\"Test data shape\", x_test.shape) # (10000, 28, 28) -- 10000 images, each 28x28\n",
    "\n",
    "# Flatten the images\n",
    "image_vector_size = 28*28\n",
    "x_train = x_train.reshape(x_train.shape[0], image_vector_size)\n",
    "x_test = x_test.reshape(x_test.shape[0], image_vector_size)\n",
    "\n",
    "# Convert to \"one-hot\" vectors using the to_categorical function\n",
    "num_classes = 10\n",
    "y_train = utils.to_categorical(y_train, num_classes)\n",
    "y_test = utils.to_categorical(y_test, num_classes)\n",
    "print(\"First 5 training lables as one-hot encoded vectors:\\n\", y_train[:10])"
   ]
  },
  {
   "cell_type": "code",
   "execution_count": 4,
   "metadata": {},
   "outputs": [
    {
     "name": "stdout",
     "output_type": "stream",
     "text": [
      "2\n",
      "(60000, 784)\n",
      "2\n",
      "(10000, 784)\n"
     ]
    }
   ],
   "source": [
    "print(x_train.ndim) \n",
    "print(x_train.shape)\n",
    "print(x_test.ndim) \n",
    "print(x_test.shape)"
   ]
  },
  {
   "cell_type": "code",
   "execution_count": 7,
   "metadata": {},
   "outputs": [
    {
     "name": "stdout",
     "output_type": "stream",
     "text": [
      "Model: \"sequential_3\"\n",
      "_________________________________________________________________\n",
      "Layer (type)                 Output Shape              Param #   \n",
      "=================================================================\n",
      "dense_2 (Dense)              (None, 512)               401920    \n",
      "_________________________________________________________________\n",
      "dropout_1 (Dropout)          (None, 512)               0         \n",
      "_________________________________________________________________\n",
      "dense_3 (Dense)              (None, 512)               262656    \n",
      "_________________________________________________________________\n",
      "dropout_2 (Dropout)          (None, 512)               0         \n",
      "_________________________________________________________________\n",
      "dense_4 (Dense)              (None, 10)                5130      \n",
      "=================================================================\n",
      "Total params: 669,706\n",
      "Trainable params: 669,706\n",
      "Non-trainable params: 0\n",
      "_________________________________________________________________\n"
     ]
    }
   ],
   "source": [
    "from keras.layers import Dense,Dropout # Dense layers are \"fully connected\" layers\n",
    "from keras.models import Sequential # Documentation: https://keras.io/models/sequential/\n",
    "\n",
    "model = Sequential()\n",
    "model.add(Dense(units=512, input_shape=(784,),activation='relu'))\n",
    "model.add(Dropout(0.2))\n",
    "model.add(Dense(units=512,activation='relu'))\n",
    "model.add(Dropout(0.2))\n",
    "model.add(Dense(units=10, activation='softmax'))\n",
    "model.summary()"
   ]
  },
  {
   "cell_type": "markdown",
   "metadata": {},
   "source": [
    "Predicciones"
   ]
  },
  {
   "cell_type": "code",
   "execution_count": 8,
   "metadata": {},
   "outputs": [
    {
     "name": "stdout",
     "output_type": "stream",
     "text": [
      "Train on 60000 samples, validate on 10000 samples\n",
      "Epoch 1/15\n",
      "60000/60000 [==============================] - 18s 299us/step - loss: 3.9240 - accuracy: 0.8567 - val_loss: 0.3941 - val_accuracy: 0.9420\n",
      "Epoch 2/15\n",
      "60000/60000 [==============================] - 18s 294us/step - loss: 0.5530 - accuracy: 0.9146 - val_loss: 0.2580 - val_accuracy: 0.9512\n",
      "Epoch 3/15\n",
      "60000/60000 [==============================] - 18s 296us/step - loss: 0.3161 - accuracy: 0.9347 - val_loss: 0.1847 - val_accuracy: 0.9561\n",
      "Epoch 4/15\n",
      "60000/60000 [==============================] - 18s 294us/step - loss: 0.2199 - accuracy: 0.9470 - val_loss: 0.1657 - val_accuracy: 0.9621\n",
      "Epoch 5/15\n",
      "60000/60000 [==============================] - 18s 297us/step - loss: 0.1797 - accuracy: 0.9546 - val_loss: 0.1490 - val_accuracy: 0.9648\n",
      "Epoch 6/15\n",
      "60000/60000 [==============================] - 18s 306us/step - loss: 0.1508 - accuracy: 0.9589 - val_loss: 0.1307 - val_accuracy: 0.9633\n",
      "Epoch 7/15\n",
      "60000/60000 [==============================] - 19s 312us/step - loss: 0.1385 - accuracy: 0.9624 - val_loss: 0.1375 - val_accuracy: 0.9643\n",
      "Epoch 8/15\n",
      "60000/60000 [==============================] - 19s 315us/step - loss: 0.1336 - accuracy: 0.9638 - val_loss: 0.1266 - val_accuracy: 0.9678\n",
      "Epoch 9/15\n",
      "60000/60000 [==============================] - 19s 316us/step - loss: 0.1195 - accuracy: 0.9674 - val_loss: 0.1297 - val_accuracy: 0.9704\n",
      "Epoch 10/15\n",
      "60000/60000 [==============================] - 19s 315us/step - loss: 0.1339 - accuracy: 0.9655 - val_loss: 0.1501 - val_accuracy: 0.9620\n",
      "Epoch 11/15\n",
      "60000/60000 [==============================] - 23s 378us/step - loss: 0.1275 - accuracy: 0.9653 - val_loss: 0.1423 - val_accuracy: 0.9674\n",
      "Epoch 12/15\n",
      "60000/60000 [==============================] - 22s 359us/step - loss: 0.1265 - accuracy: 0.9657 - val_loss: 0.1135 - val_accuracy: 0.9715\n",
      "Epoch 13/15\n",
      "60000/60000 [==============================] - 21s 351us/step - loss: 0.1250 - accuracy: 0.9666 - val_loss: 0.1121 - val_accuracy: 0.9719\n",
      "Epoch 14/15\n",
      "60000/60000 [==============================] - 21s 356us/step - loss: 0.1191 - accuracy: 0.9680 - val_loss: 0.1293 - val_accuracy: 0.9700\n",
      "Epoch 15/15\n",
      "60000/60000 [==============================] - 20s 334us/step - loss: 0.1143 - accuracy: 0.9695 - val_loss: 0.1169 - val_accuracy: 0.9733\n"
     ]
    }
   ],
   "source": [
    "model.compile(optimizer=\"adam\",\n",
    "              loss='categorical_crossentropy',\n",
    "              metrics=['accuracy'])\n",
    "history = model.fit(x_train, y_train, \n",
    "                    batch_size=150, \n",
    "                    epochs=15, \n",
    "                    validation_data=(x_test, y_test))\n",
    "\n",
    "\n"
   ]
  },
  {
   "cell_type": "code",
   "execution_count": 12,
   "metadata": {},
   "outputs": [
    {
     "data": {
      "image/png": "[encoded data removed]",
      "text/plain": [
       "<Figure size 432x288 with 1 Axes>"
      ]
     },
     "metadata": {
      "needs_background": "light"
     },
     "output_type": "display_data"
    },
    {
     "data": {
      "image/png": "[encoded data removed]",
      "text/plain": [
       "<Figure size 432x288 with 1 Axes>"
      ]
     },
     "metadata": {
      "needs_background": "light"
     },
     "output_type": "display_data"
    },
    {
     "name": "stdout",
     "output_type": "stream",
     "text": [
      "10000/10000 [==============================] - 1s 126us/step\n",
      "Test loss: 0.117\n",
      "Test accuracy: 0.973\n"
     ]
    }
   ],
   "source": [
    "import matplotlib.pyplot as plt\n",
    "plt.plot(history.history['accuracy'])\n",
    "plt.plot(history.history['val_accuracy'])\n",
    "plt.title('model accuracy')\n",
    "plt.ylabel('accuracy')\n",
    "plt.xlabel('epoch')\n",
    "plt.legend(['training', 'validation'], loc='best')\n",
    "plt.show()\n",
    "\n",
    "plt.plot(history.history['loss'])\n",
    "plt.plot(history.history['val_loss'])\n",
    "plt.title('model loss')\n",
    "plt.ylabel('loss')\n",
    "plt.xlabel('epoch')\n",
    "plt.legend(['training', 'validation'], loc='best')\n",
    "plt.show()\n",
    "\n",
    "loss, accuracy  = model.evaluate(x_test, y_test)\n",
    "print(f'Test loss: {loss:.3}')\n",
    "print(f'Test accuracy: {accuracy:.3}')"
   ]
  },
  {
   "cell_type": "code",
   "execution_count": null,
   "metadata": {},
   "outputs": [],
   "source": []
  },
  {
   "cell_type": "code",
   "execution_count": null,
   "metadata": {},
   "outputs": [],
   "source": []
  }
 ],
 "metadata": {
  "kernelspec": {
   "display_name": "Python 3",
   "language": "python",
   "name": "python3"
  },
  "language_info": {
   "codemirror_mode": {
    "name": "ipython",
    "version": 3
   },
   "file_extension": ".py",
   "mimetype": "text/x-python",
   "name": "python",
   "nbconvert_exporter": "python",
   "pygments_lexer": "ipython3",
   "version": "3.7.3"
  }
 },
 "nbformat": 4,
 "nbformat_minor": 2
}
