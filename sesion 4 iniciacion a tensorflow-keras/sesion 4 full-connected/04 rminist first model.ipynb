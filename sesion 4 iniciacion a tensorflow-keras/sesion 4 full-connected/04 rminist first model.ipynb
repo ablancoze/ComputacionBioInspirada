{
 "cells": [
  {
   "cell_type": "markdown",
   "metadata": {},
   "source": [
    "# 2 Redes neuronales densamente conectadas\n"
   ]
  },
  {
   "cell_type": "code",
   "execution_count": 2,
   "metadata": {
    "scrolled": true
   },
   "outputs": [
    {
     "name": "stdout",
     "output_type": "stream",
     "text": [
      "[name: \"/device:CPU:0\"\n",
      "device_type: \"CPU\"\n",
      "memory_limit: 268435456\n",
      "locality {\n",
      "}\n",
      "incarnation: 15097465767106961709\n",
      "]\n"
     ]
    }
   ],
   "source": [
    "\n",
    "from tensorflow.python.client import device_lib\n",
    "print(device_lib.list_local_devices())"
   ]
  },
  {
   "cell_type": "markdown",
   "metadata": {},
   "source": [
    "Precarga de los datos en Keras"
   ]
  },
  {
   "cell_type": "code",
   "execution_count": 3,
   "metadata": {},
   "outputs": [
    {
     "name": "stdout",
     "output_type": "stream",
     "text": [
      "Training data shape:  (60000, 28, 28)\n",
      "Test data shape (10000, 28, 28)\n",
      "First 5 training lables as one-hot encoded vectors:\n",
      " [[0. 0. 0. 0. 0. 1. 0. 0. 0. 0.]\n",
      " [1. 0. 0. 0. 0. 0. 0. 0. 0. 0.]\n",
      " [0. 0. 0. 0. 1. 0. 0. 0. 0. 0.]\n",
      " [0. 1. 0. 0. 0. 0. 0. 0. 0. 0.]\n",
      " [0. 0. 0. 0. 0. 0. 0. 0. 0. 1.]\n",
      " [0. 0. 1. 0. 0. 0. 0. 0. 0. 0.]\n",
      " [0. 1. 0. 0. 0. 0. 0. 0. 0. 0.]\n",
      " [0. 0. 0. 1. 0. 0. 0. 0. 0. 0.]\n",
      " [0. 1. 0. 0. 0. 0. 0. 0. 0. 0.]\n",
      " [0. 0. 0. 0. 1. 0. 0. 0. 0. 0.]]\n"
     ]
    }
   ],
   "source": [
    "from keras.datasets import mnist\n",
    "from keras import utils\n",
    "\n",
    "# Setup train and test splits\n",
    "(x_train, y_train), (x_test, y_test) = mnist.load_data()\n",
    "print(\"Training data shape: \", x_train.shape) # (60000, 28, 28) -- 60000 images, each 28x28 pixels\n",
    "print(\"Test data shape\", x_test.shape) # (10000, 28, 28) -- 10000 images, each 28x28\n",
    "\n",
    "# Flatten the images\n",
    "image_vector_size = 28*28\n",
    "x_train = x_train.reshape(x_train.shape[0], image_vector_size)\n",
    "x_test = x_test.reshape(x_test.shape[0], image_vector_size)\n",
    "\n",
    "# Convert to \"one-hot\" vectors using the to_categorical function\n",
    "num_classes = 10\n",
    "y_train = utils.to_categorical(y_train, num_classes)\n",
    "y_test = utils.to_categorical(y_test, num_classes)\n",
    "print(\"First 5 training lables as one-hot encoded vectors:\\n\", y_train[:10])"
   ]
  },
  {
   "cell_type": "code",
   "execution_count": 4,
   "metadata": {},
   "outputs": [
    {
     "name": "stdout",
     "output_type": "stream",
     "text": [
      "2\n",
      "(60000, 784)\n",
      "2\n",
      "(10000, 784)\n"
     ]
    }
   ],
   "source": [
    "print(x_train.ndim) \n",
    "print(x_train.shape)\n",
    "print(x_test.ndim) \n",
    "print(x_test.shape)"
   ]
  },
  {
   "cell_type": "code",
   "execution_count": 38,
   "metadata": {},
   "outputs": [
    {
     "name": "stdout",
     "output_type": "stream",
     "text": [
      "Model: \"sequential_12\"\n",
      "_________________________________________________________________\n",
      "Layer (type)                 Output Shape              Param #   \n",
      "=================================================================\n",
      "dense_25 (Dense)             (None, 100)               78500     \n",
      "_________________________________________________________________\n",
      "dense_26 (Dense)             (None, 10)                1010      \n",
      "=================================================================\n",
      "Total params: 79,510\n",
      "Trainable params: 79,510\n",
      "Non-trainable params: 0\n",
      "_________________________________________________________________\n"
     ]
    }
   ],
   "source": [
    "from keras.layers import Dense,Dropout # Dense layers are \"fully connected\" layers\n",
    "from keras.models import Sequential # Documentation: https://keras.io/models/sequential/\n",
    "\n",
    "model = Sequential()\n",
    "model.add(Dense(units=100, input_shape=(784,),activation='relu'))\n",
    "#model.add(Dense(units=200, activation='sigmoid'))\n",
    "model.add(Dense(units=10, activation='softmax'))\n",
    "model.summary()"
   ]
  },
  {
   "cell_type": "markdown",
   "metadata": {},
   "source": [
    "Predicciones"
   ]
  },
  {
   "cell_type": "code",
   "execution_count": 39,
   "metadata": {},
   "outputs": [
    {
     "name": "stdout",
     "output_type": "stream",
     "text": [
      "Train on 60000 samples, validate on 10000 samples\n",
      "Epoch 1/15\n",
      "60000/60000 [==============================] - 5s 82us/step - loss: 3.5043 - accuracy: 0.8605 - val_loss: 0.6860 - val_accuracy: 0.8640\n",
      "Epoch 2/15\n",
      "60000/60000 [==============================] - 5s 91us/step - loss: 0.4873 - accuracy: 0.9029 - val_loss: 0.4126 - val_accuracy: 0.9182\n",
      "Epoch 3/15\n",
      "60000/60000 [==============================] - 5s 77us/step - loss: 0.3115 - accuracy: 0.9269 - val_loss: 0.3675 - val_accuracy: 0.9212\n",
      "Epoch 4/15\n",
      "60000/60000 [==============================] - 5s 77us/step - loss: 0.2541 - accuracy: 0.9377 - val_loss: 0.2981 - val_accuracy: 0.9275\n",
      "Epoch 5/15\n",
      "60000/60000 [==============================] - 5s 78us/step - loss: 0.2198 - accuracy: 0.9429 - val_loss: 0.2609 - val_accuracy: 0.9426\n",
      "Epoch 6/15\n",
      "60000/60000 [==============================] - 5s 77us/step - loss: 0.1956 - accuracy: 0.9487 - val_loss: 0.2211 - val_accuracy: 0.9461\n",
      "Epoch 7/15\n",
      "60000/60000 [==============================] - 5s 76us/step - loss: 0.1908 - accuracy: 0.9501 - val_loss: 0.2357 - val_accuracy: 0.9464\n",
      "Epoch 8/15\n",
      "60000/60000 [==============================] - 5s 77us/step - loss: 0.1775 - accuracy: 0.9552 - val_loss: 0.2270 - val_accuracy: 0.9492\n",
      "Epoch 9/15\n",
      "60000/60000 [==============================] - 5s 77us/step - loss: 0.1632 - accuracy: 0.9574 - val_loss: 0.2424 - val_accuracy: 0.9566\n",
      "Epoch 10/15\n",
      "60000/60000 [==============================] - 5s 77us/step - loss: 0.1579 - accuracy: 0.9605 - val_loss: 0.2280 - val_accuracy: 0.9507\n",
      "Epoch 11/15\n",
      "60000/60000 [==============================] - 5s 78us/step - loss: 0.1534 - accuracy: 0.9611 - val_loss: 0.2595 - val_accuracy: 0.9539\n",
      "Epoch 12/15\n",
      "60000/60000 [==============================] - 5s 78us/step - loss: 0.1528 - accuracy: 0.9621 - val_loss: 0.2176 - val_accuracy: 0.9532\n",
      "Epoch 13/15\n",
      "60000/60000 [==============================] - 5s 79us/step - loss: 0.1401 - accuracy: 0.9641 - val_loss: 0.2326 - val_accuracy: 0.9554\n",
      "Epoch 14/15\n",
      "60000/60000 [==============================] - 5s 76us/step - loss: 0.1394 - accuracy: 0.9647 - val_loss: 0.2589 - val_accuracy: 0.9547\n",
      "Epoch 15/15\n",
      "60000/60000 [==============================] - 5s 77us/step - loss: 0.1404 - accuracy: 0.9660 - val_loss: 0.2398 - val_accuracy: 0.9530\n"
     ]
    }
   ],
   "source": [
    "model.compile(optimizer=\"adam\",\n",
    "              loss='categorical_crossentropy',\n",
    "              metrics=['accuracy'])\n",
    "history = model.fit(x_train, y_train, \n",
    "                    batch_size=50, \n",
    "                    epochs=15, \n",
    "                    validation_data=(x_test, y_test))\n",
    "\n",
    "\n"
   ]
  },
  {
   "cell_type": "code",
   "execution_count": 40,
   "metadata": {},
   "outputs": [
    {
     "data": {
      "image/png": "[encoded data removed]",
      "text/plain": [
       "<Figure size 432x288 with 1 Axes>"
      ]
     },
     "metadata": {
      "needs_background": "light"
     },
     "output_type": "display_data"
    },
    {
     "data": {
      "image/png": "[encoded data removed]",
      "text/plain": [
       "<Figure size 432x288 with 1 Axes>"
      ]
     },
     "metadata": {
      "needs_background": "light"
     },
     "output_type": "display_data"
    },
    {
     "name": "stdout",
     "output_type": "stream",
     "text": [
      "10000/10000 [==============================] - 0s 40us/step\n",
      "Test loss: 0.24\n",
      "Test accuracy: 0.953\n"
     ]
    }
   ],
   "source": [
    "import matplotlib.pyplot as plt\n",
    "plt.plot(history.history['accuracy'])\n",
    "plt.plot(history.history['val_accuracy'])\n",
    "plt.title('model accuracy')\n",
    "plt.ylabel('accuracy')\n",
    "plt.xlabel('epoch')\n",
    "plt.legend(['training', 'validation'], loc='best')\n",
    "plt.show()\n",
    "\n",
    "plt.plot(history.history['loss'])\n",
    "plt.plot(history.history['val_loss'])\n",
    "plt.title('model loss')\n",
    "plt.ylabel('loss')\n",
    "plt.xlabel('epoch')\n",
    "plt.legend(['training', 'validation'], loc='best')\n",
    "plt.show()\n",
    "\n",
    "loss, accuracy  = model.evaluate(x_test, y_test)\n",
    "print(f'Test loss: {loss:.3}')\n",
    "print(f'Test accuracy: {accuracy:.3}')"
   ]
  },
  {
   "cell_type": "code",
   "execution_count": null,
   "metadata": {},
   "outputs": [],
   "source": []
  },
  {
   "cell_type": "code",
   "execution_count": null,
   "metadata": {},
   "outputs": [],
   "source": []
  }
 ],
 "metadata": {
  "kernelspec": {
   "display_name": "Python 3",
   "language": "python",
   "name": "python3"
  },
  "language_info": {
   "codemirror_mode": {
    "name": "ipython",
    "version": 3
   },
   "file_extension": ".py",
   "mimetype": "text/x-python",
   "name": "python",
   "nbconvert_exporter": "python",
   "pygments_lexer": "ipython3",
   "version": "3.7.3"
  }
 },
 "nbformat": 4,
 "nbformat_minor": 2
}
