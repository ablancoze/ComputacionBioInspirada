{
 "cells": [
  {
   "cell_type": "markdown",
   "metadata": {},
   "source": [
    "# 2 Redes neuronales densamente conectadas\n"
   ]
  },
  {
   "cell_type": "code",
   "execution_count": 2,
   "metadata": {
    "scrolled": true
   },
   "outputs": [
    {
     "name": "stdout",
     "output_type": "stream",
     "text": [
      "[name: \"/device:CPU:0\"\n",
      "device_type: \"CPU\"\n",
      "memory_limit: 268435456\n",
      "locality {\n",
      "}\n",
      "incarnation: 9298113220669509775\n",
      "]\n"
     ]
    }
   ],
   "source": [
    "\n",
    "from tensorflow.python.client import device_lib\n",
    "print(device_lib.list_local_devices())"
   ]
  },
  {
   "cell_type": "markdown",
   "metadata": {},
   "source": [
    "Precarga de los datos en Keras"
   ]
  },
  {
   "cell_type": "code",
   "execution_count": 68,
   "metadata": {},
   "outputs": [
    {
     "name": "stdout",
     "output_type": "stream",
     "text": [
      "Training data shape:  (60000, 28, 28)\n",
      "Test data shape (10000, 28, 28)\n",
      "First 5 training lables as one-hot encoded vectors:\n",
      " [[0. 0. 0. 0. 0. 1. 0. 0. 0. 0.]\n",
      " [1. 0. 0. 0. 0. 0. 0. 0. 0. 0.]\n",
      " [0. 0. 0. 0. 1. 0. 0. 0. 0. 0.]\n",
      " [0. 1. 0. 0. 0. 0. 0. 0. 0. 0.]\n",
      " [0. 0. 0. 0. 0. 0. 0. 0. 0. 1.]\n",
      " [0. 0. 1. 0. 0. 0. 0. 0. 0. 0.]\n",
      " [0. 1. 0. 0. 0. 0. 0. 0. 0. 0.]\n",
      " [0. 0. 0. 1. 0. 0. 0. 0. 0. 0.]\n",
      " [0. 1. 0. 0. 0. 0. 0. 0. 0. 0.]\n",
      " [0. 0. 0. 0. 1. 0. 0. 0. 0. 0.]]\n"
     ]
    }
   ],
   "source": [
    "from keras.datasets import mnist\n",
    "from keras import utils\n",
    "\n",
    "# Setup train and test splits\n",
    "(x_train, y_train), (x_test, y_test) = mnist.load_data()\n",
    "print(\"Training data shape: \", x_train.shape) # (60000, 28, 28) -- 60000 images, each 28x28 pixels\n",
    "print(\"Test data shape\", x_test.shape) # (10000, 28, 28) -- 10000 images, each 28x28\n",
    "\n",
    "# Flatten the images\n",
    "image_vector_size = 28*28\n",
    "x_train = x_train.reshape(x_train.shape[0], image_vector_size)\n",
    "x_test = x_test.reshape(x_test.shape[0], image_vector_size)\n",
    "\n",
    "# Convert to \"one-hot\" vectors using the to_categorical function\n",
    "num_classes = 10\n",
    "y_train = utils.to_categorical(y_train, num_classes)\n",
    "y_test = utils.to_categorical(y_test, num_classes)\n",
    "print(\"First 5 training lables as one-hot encoded vectors:\\n\", y_train[:10])"
   ]
  },
  {
   "cell_type": "code",
   "execution_count": 69,
   "metadata": {},
   "outputs": [
    {
     "name": "stdout",
     "output_type": "stream",
     "text": [
      "2\n",
      "(60000, 784)\n",
      "2\n",
      "(10000, 784)\n"
     ]
    }
   ],
   "source": [
    "print(x_train.ndim) \n",
    "print(x_train.shape)\n",
    "print(x_test.ndim) \n",
    "print(x_test.shape)"
   ]
  },
  {
   "cell_type": "code",
   "execution_count": 122,
   "metadata": {},
   "outputs": [
    {
     "name": "stdout",
     "output_type": "stream",
     "text": [
      "Model: \"sequential_21\"\n",
      "_________________________________________________________________\n",
      "Layer (type)                 Output Shape              Param #   \n",
      "=================================================================\n",
      "dense_44 (Dense)             (None, 500)               392500    \n",
      "_________________________________________________________________\n",
      "dense_45 (Dense)             (None, 200)               100200    \n",
      "_________________________________________________________________\n",
      "dense_46 (Dense)             (None, 10)                2010      \n",
      "=================================================================\n",
      "Total params: 494,710\n",
      "Trainable params: 494,710\n",
      "Non-trainable params: 0\n",
      "_________________________________________________________________\n"
     ]
    }
   ],
   "source": [
    "from keras.layers import Dense,Dropout # Dense layers are \"fully connected\" layers\n",
    "from keras.models import Sequential # Documentation: https://keras.io/models/sequential/\n",
    "\n",
    "image_size = 784 # 28*28\n",
    "num_classes = 10 # ten unique digits\n",
    "\n",
    "model = Sequential()\n",
    "\n",
    "# The input layer requires the special input_shape parameter which should match\n",
    "# the shape of our training data.\n",
    "model.add(Dense(units=500, activation='relu', input_shape=(image_size,),kernel_regularizer=regularizers.l2(0.01)))\n",
    "model.add(Dense(units=200,activation='sigmoid'))\n",
    "#model.add(Dropout(0.5))\n",
    "model.add(Dense(units=num_classes, activation='softmax'))\n",
    "model.summary()"
   ]
  },
  {
   "cell_type": "markdown",
   "metadata": {},
   "source": [
    "Predicciones"
   ]
  },
  {
   "cell_type": "code",
   "execution_count": 123,
   "metadata": {},
   "outputs": [
    {
     "name": "stdout",
     "output_type": "stream",
     "text": [
      "Train on 60000 samples, validate on 10000 samples\n",
      "Epoch 1/15\n",
      "60000/60000 [==============================] - 13s 216us/step - loss: 1.8758 - accuracy: 0.8792 - val_loss: 0.7048 - val_accuracy: 0.9190\n",
      "Epoch 2/15\n",
      "60000/60000 [==============================] - 12s 206us/step - loss: 0.5358 - accuracy: 0.9327 - val_loss: 0.4499 - val_accuracy: 0.9316\n",
      "Epoch 3/15\n",
      "60000/60000 [==============================] - 13s 209us/step - loss: 0.4040 - accuracy: 0.9401 - val_loss: 0.3836 - val_accuracy: 0.9425\n",
      "Epoch 4/15\n",
      "60000/60000 [==============================] - 14s 232us/step - loss: 0.3633 - accuracy: 0.9446 - val_loss: 0.3506 - val_accuracy: 0.9431\n",
      "Epoch 5/15\n",
      "60000/60000 [==============================] - 14s 234us/step - loss: 0.3318 - accuracy: 0.9492 - val_loss: 0.3168 - val_accuracy: 0.9554\n",
      "Epoch 6/15\n",
      "60000/60000 [==============================] - 14s 232us/step - loss: 0.3102 - accuracy: 0.9522 - val_loss: 0.2830 - val_accuracy: 0.9603\n",
      "Epoch 7/15\n",
      "60000/60000 [==============================] - 14s 234us/step - loss: 0.2937 - accuracy: 0.9548 - val_loss: 0.2804 - val_accuracy: 0.9584\n",
      "Epoch 8/15\n",
      "60000/60000 [==============================] - 14s 240us/step - loss: 0.2793 - accuracy: 0.9559 - val_loss: 0.2957 - val_accuracy: 0.9525\n",
      "Epoch 9/15\n",
      "60000/60000 [==============================] - 14s 234us/step - loss: 0.2710 - accuracy: 0.9569 - val_loss: 0.2658 - val_accuracy: 0.9595\n",
      "Epoch 10/15\n",
      "60000/60000 [==============================] - 14s 233us/step - loss: 0.2641 - accuracy: 0.9582 - val_loss: 0.3017 - val_accuracy: 0.9477\n",
      "Epoch 11/15\n",
      "60000/60000 [==============================] - 14s 242us/step - loss: 0.2491 - accuracy: 0.9606 - val_loss: 0.2384 - val_accuracy: 0.9629\n",
      "Epoch 12/15\n",
      "60000/60000 [==============================] - 14s 240us/step - loss: 0.2369 - accuracy: 0.9618 - val_loss: 0.2298 - val_accuracy: 0.9619\n",
      "Epoch 13/15\n",
      "60000/60000 [==============================] - 14s 226us/step - loss: 0.2400 - accuracy: 0.9601 - val_loss: 0.2530 - val_accuracy: 0.9588\n",
      "Epoch 14/15\n",
      "60000/60000 [==============================] - 14s 227us/step - loss: 0.2461 - accuracy: 0.9605 - val_loss: 0.2517 - val_accuracy: 0.9580\n",
      "Epoch 15/15\n",
      "60000/60000 [==============================] - 13s 224us/step - loss: 0.2373 - accuracy: 0.9609 - val_loss: 0.2310 - val_accuracy: 0.9641\n"
     ]
    }
   ],
   "source": [
    "model.compile(optimizer=\"adam\",\n",
    "              loss='categorical_crossentropy',\n",
    "              metrics=['accuracy'])\n",
    "history = model.fit(x_train, y_train, \n",
    "                    batch_size=150, \n",
    "                    epochs=15, \n",
    "                    validation_data=(x_test, y_test))\n",
    "\n",
    "\n"
   ]
  },
  {
   "cell_type": "code",
   "execution_count": 124,
   "metadata": {},
   "outputs": [
    {
     "data": {
      "image/png": "[encoded data removed]",
      "text/plain": [
       "<Figure size 432x288 with 1 Axes>"
      ]
     },
     "metadata": {
      "needs_background": "light"
     },
     "output_type": "display_data"
    },
    {
     "data": {
      "image/png": "[encoded data removed]",
      "text/plain": [
       "<Figure size 432x288 with 1 Axes>"
      ]
     },
     "metadata": {
      "needs_background": "light"
     },
     "output_type": "display_data"
    },
    {
     "name": "stdout",
     "output_type": "stream",
     "text": [
      "10000/10000 [==============================] - 1s 134us/step\n",
      "Test loss: 0.231\n",
      "Test accuracy: 0.964\n"
     ]
    }
   ],
   "source": [
    "plt.plot(history.history['accuracy'])\n",
    "plt.plot(history.history['val_accuracy'])\n",
    "plt.title('model accuracy')\n",
    "plt.ylabel('accuracy')\n",
    "plt.xlabel('epoch')\n",
    "plt.legend(['training', 'validation'], loc='best')\n",
    "plt.show()\n",
    "\n",
    "plt.plot(history.history['loss'])\n",
    "plt.plot(history.history['val_loss'])\n",
    "plt.title('model loss')\n",
    "plt.ylabel('loss')\n",
    "plt.xlabel('epoch')\n",
    "plt.legend(['training', 'validation'], loc='best')\n",
    "plt.show()\n",
    "\n",
    "loss, accuracy  = model.evaluate(x_test, y_test)\n",
    "print(f'Test loss: {loss:.3}')\n",
    "print(f'Test accuracy: {accuracy:.3}')"
   ]
  },
  {
   "cell_type": "code",
   "execution_count": null,
   "metadata": {},
   "outputs": [],
   "source": []
  }
 ],
 "metadata": {
  "kernelspec": {
   "display_name": "Python 3",
   "language": "python",
   "name": "python3"
  },
  "language_info": {
   "codemirror_mode": {
    "name": "ipython",
    "version": 3
   },
   "file_extension": ".py",
   "mimetype": "text/x-python",
   "name": "python",
   "nbconvert_exporter": "python",
   "pygments_lexer": "ipython3",
   "version": "3.7.3"
  }
 },
 "nbformat": 4,
 "nbformat_minor": 2
}
