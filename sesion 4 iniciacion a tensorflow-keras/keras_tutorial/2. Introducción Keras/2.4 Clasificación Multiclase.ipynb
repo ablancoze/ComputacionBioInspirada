{
 "cells": [
  {
   "cell_type": "markdown",
   "metadata": {},
   "source": [
    "# Clasificación Multiclase"
   ]
  },
  {
   "cell_type": "code",
   "execution_count": 1,
   "metadata": {},
   "outputs": [
    {
     "name": "stderr",
     "output_type": "stream",
     "text": [
      "Using TensorFlow backend.\n"
     ]
    },
    {
     "data": {
      "text/plain": [
       "'2.2.4'"
      ]
     },
     "execution_count": 1,
     "metadata": {},
     "output_type": "execute_result"
    }
   ],
   "source": [
    "import keras\n",
    "keras.__version__"
   ]
  },
  {
   "cell_type": "markdown",
   "metadata": {},
   "source": [
    "En este ejemplo vamos a construir una red para clasificar las noticias de Reuters según una clasificación que contiene 46 tópicos disjuntos. Por ello, estamos ante un problema de **Clasificación Multi-Clase** (concretamente, de etiqueta única, porque cada ejemplo solo puede ser asignado a una de las clases).\n",
    "\n",
    "El problema analizado es muy similar al que ya hemos visto de opiniones de IMDB, por lo que profundizaremos únicamente en aquellas fases que lo diferencian."
   ]
  },
  {
   "cell_type": "markdown",
   "metadata": {},
   "source": [
    "## El dataset de Reuters\n",
    "\n",
    "Vamos a trabajar sobre el *dataset de Reuters*, un conjunto de noticias cortas clasificadas por tópicos, que publicó la empresa de noticias Reuters en 1986 y que se ha usado ampliamente como ejemplo en problemas de clasificación. Este dataset hace uso de 46 tópicos distintos, algunos con más representación que otros, pero en el que, al menos, cada tópico etiqueta 10 noticias del conjunto de entrenamiento.\n",
    "\n",
    "Este datset también viene empaquetado en Keras y su carga es directa y similar a las que hemos realizado en los ejemplos anteriores:"
   ]
  },
  {
   "cell_type": "code",
   "execution_count": 2,
   "metadata": {},
   "outputs": [],
   "source": [
    "from keras.datasets import reuters\n",
    "\n",
    "(train_data, train_labels), (test_data, test_labels) = reuters.load_data(num_words=10000)"
   ]
  },
  {
   "cell_type": "markdown",
   "metadata": {},
   "source": [
    "\n",
    "Tenemos 8,982 ejemplos de entrenamiento y 2,246 ejemplos de test:\n"
   ]
  },
  {
   "cell_type": "code",
   "execution_count": 3,
   "metadata": {},
   "outputs": [
    {
     "data": {
      "text/plain": [
       "8982"
      ]
     },
     "execution_count": 3,
     "metadata": {},
     "output_type": "execute_result"
    }
   ],
   "source": [
    "len(train_data)"
   ]
  },
  {
   "cell_type": "code",
   "execution_count": 4,
   "metadata": {},
   "outputs": [
    {
     "data": {
      "text/plain": [
       "2246"
      ]
     },
     "execution_count": 4,
     "metadata": {},
     "output_type": "execute_result"
    }
   ],
   "source": [
    "len(test_data)"
   ]
  },
  {
   "cell_type": "markdown",
   "metadata": {},
   "source": [
    "Al igual que en el caso de IMDB, los ejemplos son listas de enteros que representan índices de palabras de un diccionario:\n"
   ]
  },
  {
   "cell_type": "code",
   "execution_count": 5,
   "metadata": {},
   "outputs": [
    {
     "data": {
      "text/plain": [
       "[1,\n",
       " 245,\n",
       " 273,\n",
       " 207,\n",
       " 156,\n",
       " 53,\n",
       " 74,\n",
       " 160,\n",
       " 26,\n",
       " 14,\n",
       " 46,\n",
       " 296,\n",
       " 26,\n",
       " 39,\n",
       " 74,\n",
       " 2979,\n",
       " 3554,\n",
       " 14,\n",
       " 46,\n",
       " 4689,\n",
       " 4329,\n",
       " 86,\n",
       " 61,\n",
       " 3499,\n",
       " 4795,\n",
       " 14,\n",
       " 61,\n",
       " 451,\n",
       " 4329,\n",
       " 17,\n",
       " 12]"
      ]
     },
     "execution_count": 5,
     "metadata": {},
     "output_type": "execute_result"
    }
   ],
   "source": [
    "train_data[10]"
   ]
  },
  {
   "cell_type": "markdown",
   "metadata": {},
   "source": [
    "Que podemos decodificar de forma completamente análoga a como lo hicimos entonces:\n"
   ]
  },
  {
   "cell_type": "code",
   "execution_count": 6,
   "metadata": {},
   "outputs": [],
   "source": [
    "word_index = reuters.get_word_index()\n",
    "reverse_word_index = dict([(value, key) for (key, value) in word_index.items()])\n",
    "# Note that our indices were offset by 3\n",
    "# because 0, 1 and 2 are reserved indices for \"padding\", \"start of sequence\", and \"unknown\".\n",
    "decoded_newswire = ' '.join([reverse_word_index.get(i - 3, '?') for i in train_data[0]])"
   ]
  },
  {
   "cell_type": "code",
   "execution_count": 7,
   "metadata": {},
   "outputs": [
    {
     "data": {
      "text/plain": [
       "'? ? ? said as a result of its december acquisition of space co it expects earnings per share in 1987 of 1 15 to 1 30 dlrs per share up from 70 cts in 1986 the company said pretax net should rise to nine to 10 mln dlrs from six mln dlrs in 1986 and rental operation revenues to 19 to 22 mln dlrs from 12 5 mln dlrs it said cash flow per share this year should be 2 50 to three dlrs reuter 3'"
      ]
     },
     "execution_count": 7,
     "metadata": {},
     "output_type": "execute_result"
    }
   ],
   "source": [
    "decoded_newswire"
   ]
  },
  {
   "cell_type": "markdown",
   "metadata": {},
   "source": [
    "La etiqueta asociada a una noticia es un entero entre 0 y 45, que representa el índice de un tópico.\n"
   ]
  },
  {
   "cell_type": "code",
   "execution_count": 8,
   "metadata": {},
   "outputs": [
    {
     "data": {
      "text/plain": [
       "3"
      ]
     },
     "execution_count": 8,
     "metadata": {},
     "output_type": "execute_result"
    }
   ],
   "source": [
    "train_labels[10]"
   ]
  },
  {
   "cell_type": "markdown",
   "metadata": {},
   "source": [
    "## Preparando los datos\n",
    "\n",
    "Usamos exactamente las mismas funciones para vectorizar los datos y prepararlos como entrada a la red neuronal:"
   ]
  },
  {
   "cell_type": "code",
   "execution_count": 9,
   "metadata": {},
   "outputs": [],
   "source": [
    "import numpy as np\n",
    "\n",
    "def vectorize_sequences(sequences, dimension=10000):\n",
    "    results = np.zeros((len(sequences), dimension))\n",
    "    for i, sequence in enumerate(sequences):\n",
    "        results[i, sequence] = 1.\n",
    "    return results\n",
    "\n",
    "# Our vectorized training data\n",
    "x_train = vectorize_sequences(train_data)\n",
    "# Our vectorized test data\n",
    "x_test = vectorize_sequences(test_data)"
   ]
  },
  {
   "cell_type": "markdown",
   "metadata": {},
   "source": [
    "\n",
    "La diferencia principal ahora es que antes estas etiquetas eran binarias y ahora son números enteros. Podríamos tratarlas como enteros (tensores escalares) o bien hacer una codificación _one-hot_ tal y como hicimos antes, que será la opción que tomemos siguiendo un patrón similar al realizado para las vectorizaciones anteriores (aunque, en este caso, como cada noticia solo puede tener asociado un tópico, los vectores tendrán solo un 1 y todo lo demás 0s):\n"
   ]
  },
  {
   "cell_type": "code",
   "execution_count": 10,
   "metadata": {},
   "outputs": [],
   "source": [
    "def to_one_hot(labels, dimension=46):\n",
    "    results = np.zeros((len(labels), dimension))\n",
    "    for i, label in enumerate(labels):\n",
    "        results[i, label] = 1.\n",
    "    return results\n",
    "\n",
    "# Our vectorized training labels\n",
    "one_hot_train_labels = to_one_hot(train_labels)\n",
    "# Our vectorized test labels\n",
    "one_hot_test_labels = to_one_hot(test_labels)"
   ]
  },
  {
   "cell_type": "markdown",
   "metadata": {},
   "source": [
    "Esta tarea es tan común que hHay una función de Keras que realiza ya esta labor, y que vimos en el primer ejemplo que estudiamos de MNIST. Su resultado es exactamente el mismo que el de la función anterior:\n"
   ]
  },
  {
   "cell_type": "code",
   "execution_count": 11,
   "metadata": {},
   "outputs": [],
   "source": [
    "from keras.utils.np_utils import to_categorical\n",
    "\n",
    "one_hot_train_labels = to_categorical(train_labels)\n",
    "one_hot_test_labels = to_categorical(test_labels)"
   ]
  },
  {
   "cell_type": "markdown",
   "metadata": {},
   "source": [
    "## Construyendo la red\n",
    "\n",
    "Como ahora la salida debe tener 46 unidades, no tiene sentido comprimir las capas anteriores a 16 unidades, ya que estaríamos creando un cuello de botella en esa parte de la red, así que trabajaremos con 2 capas densas de 64 unidades, y una capa densa de salida con 46 unidades (una por cada posible tópico) pero de activación `softmax`:"
   ]
  },
  {
   "cell_type": "code",
   "execution_count": 12,
   "metadata": {},
   "outputs": [],
   "source": [
    "from keras import models\n",
    "from keras import layers\n",
    "from keras.utils.vis_utils import plot_model\n",
    "\n",
    "red = models.Sequential()\n",
    "red.add(layers.Dense(64, activation='relu', input_shape=(10000,)))\n",
    "red.add(layers.Dense(64, activation='relu'))\n",
    "red.add(layers.Dense(46, activation='softmax'))\n",
    "\n",
    "plot_model(red, to_file='ReutersModel_plot.png', show_shapes=True, show_layer_names=True)"
   ]
  },
  {
   "cell_type": "markdown",
   "metadata": {},
   "source": [
    "![](./imgs/ReutersModel_plot.png)\n",
    "\n",
    "Destaquemos las diferencias que podemos encontrar respedto al caso anterior:\n",
    "\n",
    "* La red acaba con una capa densa de 46 unidades, de forma que la salida será un vector de tamaño 46, uno por cada posible clase de salida.\n",
    "\n",
    "* La última capa usa activación `softmax`, lo que significa que la salida se podrá interpretar como una *distribución de probabilidad* sobre las diferentes clases de salida (un vector positivo de tamaño 46 y que suma 1).\n",
    "\n",
    "Siguiendo un razonamiento similar al caso del IMDB, la función de pérdida adecuada en este caso es `categorical_crossentropy` (similar, pero para el caso no binario):"
   ]
  },
  {
   "cell_type": "code",
   "execution_count": 13,
   "metadata": {},
   "outputs": [],
   "source": [
    "red.compile(optimizer='rmsprop',\n",
    "              loss='categorical_crossentropy',\n",
    "              metrics=['accuracy'])"
   ]
  },
  {
   "cell_type": "markdown",
   "metadata": {},
   "source": [
    "## Validando el modelo\n",
    "\n",
    "Al igual que antes, vamos a separar 1,000 muestras del conjunto de entrenamiento para formar un conjunto de validación que nos servirá para evaluar cómo funciona el modelo a medida que va aprendiendo (y controlar, por ejemplo, el *overfitting*):"
   ]
  },
  {
   "cell_type": "code",
   "execution_count": 19,
   "metadata": {},
   "outputs": [],
   "source": [
    "x_val = x_train[:1000]\n",
    "partial_x_train = x_train[1000:]\n",
    "\n",
    "y_val = one_hot_train_labels[:1000]\n",
    "partial_y_train = one_hot_train_labels[1000:]"
   ]
  },
  {
   "cell_type": "markdown",
   "metadata": {},
   "source": [
    "Ahora entrenemos el modelo con 20 epochs, usando el conjunto de validación para tener información adicional de cómo evoluciona:\n"
   ]
  },
  {
   "cell_type": "code",
   "execution_count": 20,
   "metadata": {},
   "outputs": [
    {
     "name": "stdout",
     "output_type": "stream",
     "text": [
      "Train on 7982 samples, validate on 1000 samples\n",
      "Epoch 1/20\n",
      "7982/7982 [==============================] - 0s 55us/step - loss: 0.2072 - acc: 0.9480 - val_loss: 0.5470 - val_acc: 0.8970\n",
      "Epoch 2/20\n",
      "7982/7982 [==============================] - 0s 54us/step - loss: 0.1808 - acc: 0.9521 - val_loss: 0.5572 - val_acc: 0.8850\n",
      "Epoch 3/20\n",
      "7982/7982 [==============================] - 0s 56us/step - loss: 0.1630 - acc: 0.9540 - val_loss: 0.5878 - val_acc: 0.8850\n",
      "Epoch 4/20\n",
      "7982/7982 [==============================] - 0s 57us/step - loss: 0.1487 - acc: 0.9551 - val_loss: 0.5794 - val_acc: 0.8830\n",
      "Epoch 5/20\n",
      "7982/7982 [==============================] - 0s 60us/step - loss: 0.1410 - acc: 0.9555 - val_loss: 0.6026 - val_acc: 0.8850\n",
      "Epoch 6/20\n",
      "7982/7982 [==============================] - 0s 62us/step - loss: 0.1288 - acc: 0.9585 - val_loss: 0.6310 - val_acc: 0.8730\n",
      "Epoch 7/20\n",
      "7982/7982 [==============================] - 0s 61us/step - loss: 0.1222 - acc: 0.9564 - val_loss: 0.6554 - val_acc: 0.8750\n",
      "Epoch 8/20\n",
      "7982/7982 [==============================] - 0s 58us/step - loss: 0.1180 - acc: 0.9560 - val_loss: 0.6481 - val_acc: 0.8780\n",
      "Epoch 9/20\n",
      "7982/7982 [==============================] - 0s 56us/step - loss: 0.1143 - acc: 0.9564 - val_loss: 0.6608 - val_acc: 0.8760\n",
      "Epoch 10/20\n",
      "7982/7982 [==============================] - 0s 56us/step - loss: 0.1125 - acc: 0.9570 - val_loss: 0.6987 - val_acc: 0.8700\n",
      "Epoch 11/20\n",
      "7982/7982 [==============================] - 0s 56us/step - loss: 0.1056 - acc: 0.9570 - val_loss: 0.6960 - val_acc: 0.8740\n",
      "Epoch 12/20\n",
      "7982/7982 [==============================] - 0s 56us/step - loss: 0.1052 - acc: 0.9577 - val_loss: 0.7318 - val_acc: 0.8730\n",
      "Epoch 13/20\n",
      "7982/7982 [==============================] - 0s 55us/step - loss: 0.1006 - acc: 0.9579 - val_loss: 0.7158 - val_acc: 0.8710\n",
      "Epoch 14/20\n",
      "7982/7982 [==============================] - 0s 59us/step - loss: 0.1020 - acc: 0.9559 - val_loss: 0.7919 - val_acc: 0.8570\n",
      "Epoch 15/20\n",
      "7982/7982 [==============================] - 0s 57us/step - loss: 0.0976 - acc: 0.9568 - val_loss: 0.7646 - val_acc: 0.8650\n",
      "Epoch 16/20\n",
      "7982/7982 [==============================] - 0s 56us/step - loss: 0.0994 - acc: 0.9562 - val_loss: 0.7969 - val_acc: 0.8560\n",
      "Epoch 17/20\n",
      "7982/7982 [==============================] - 0s 56us/step - loss: 0.0964 - acc: 0.9584 - val_loss: 0.7880 - val_acc: 0.8630\n",
      "Epoch 18/20\n",
      "7982/7982 [==============================] - 0s 59us/step - loss: 0.0920 - acc: 0.9587 - val_loss: 0.7967 - val_acc: 0.8630\n",
      "Epoch 19/20\n",
      "7982/7982 [==============================] - 0s 60us/step - loss: 0.0933 - acc: 0.9583 - val_loss: 0.8350 - val_acc: 0.8500\n",
      "Epoch 20/20\n",
      "7982/7982 [==============================] - 0s 57us/step - loss: 0.0906 - acc: 0.9594 - val_loss: 0.8183 - val_acc: 0.8580\n"
     ]
    }
   ],
   "source": [
    "entrenamiento = red.fit(partial_x_train,\n",
    "                    partial_y_train,\n",
    "                    epochs=20,\n",
    "                    batch_size=512,\n",
    "                    validation_data=(x_val, y_val))"
   ]
  },
  {
   "cell_type": "markdown",
   "metadata": {},
   "source": [
    "Podemos mostrar las curvas de pérdida y accuracy en los datos de entrenamiento y validación::\n"
   ]
  },
  {
   "cell_type": "code",
   "execution_count": 21,
   "metadata": {},
   "outputs": [
    {
     "data": {
      "image/png": "[encoded data removed]",
      "text/plain": [
       "<Figure size 432x288 with 1 Axes>"
      ]
     },
     "metadata": {
      "needs_background": "light"
     },
     "output_type": "display_data"
    }
   ],
   "source": [
    "import matplotlib.pyplot as plt\n",
    "\n",
    "ent_loss = entrenamiento.history['loss']\n",
    "val_loss = entrenamiento.history['val_loss']\n",
    "\n",
    "epochs = range(1, len(ent_loss) + 1)\n",
    "\n",
    "plt.plot(epochs, ent_loss, 'b', label='Entrenamiento')\n",
    "plt.plot(epochs, val_loss, 'r', label='Validación')\n",
    "plt.title('Pérdida en Entrenamiento y Validación')\n",
    "plt.xlabel('Epochs')\n",
    "plt.ylabel('Pérdida')\n",
    "plt.legend()\n",
    "\n",
    "plt.show()"
   ]
  },
  {
   "cell_type": "code",
   "execution_count": 23,
   "metadata": {},
   "outputs": [
    {
     "data": {
      "image/png": "[encoded data removed]",
      "text/plain": [
       "<Figure size 432x288 with 1 Axes>"
      ]
     },
     "metadata": {
      "needs_background": "light"
     },
     "output_type": "display_data"
    }
   ],
   "source": [
    "plt.clf()   # clear figure\n",
    "\n",
    "ent_acc = entrenamiento.history['acc']\n",
    "val_acc = entrenamiento.history['val_acc']\n",
    "\n",
    "plt.plot(epochs, ent_acc, 'b', label='Entrenamiento')\n",
    "plt.plot(epochs, val_acc, 'r', label='Validación')\n",
    "plt.title('Accuracy en Entrenamiento y Validación')\n",
    "plt.xlabel('Epochs')\n",
    "plt.ylabel('Accuracy')\n",
    "plt.legend()\n",
    "\n",
    "plt.show()"
   ]
  },
  {
   "cell_type": "markdown",
   "metadata": {},
   "source": [
    "Que nos muestran que el modelo comienza a sobreajustar a partir de la 9ª epoch, por lo que entrenaremos un modelo limpio solo durante 9 epochs, y mediremos su rendimiento con los datos de test:\n"
   ]
  },
  {
   "cell_type": "code",
   "execution_count": 24,
   "metadata": {},
   "outputs": [
    {
     "name": "stdout",
     "output_type": "stream",
     "text": [
      "Train on 7982 samples, validate on 1000 samples\n",
      "Epoch 1/8\n",
      "7982/7982 [==============================] - 1s 78us/step - loss: 2.6881 - acc: 0.4981 - val_loss: 1.8012 - val_acc: 0.6340\n",
      "Epoch 2/8\n",
      "7982/7982 [==============================] - 0s 53us/step - loss: 1.4756 - acc: 0.7015 - val_loss: 1.3728 - val_acc: 0.6870\n",
      "Epoch 3/8\n",
      "7982/7982 [==============================] - 0s 56us/step - loss: 1.0966 - acc: 0.7669 - val_loss: 1.1740 - val_acc: 0.7520\n",
      "Epoch 4/8\n",
      "7982/7982 [==============================] - 0s 55us/step - loss: 0.8697 - acc: 0.8127 - val_loss: 1.0609 - val_acc: 0.7830\n",
      "Epoch 5/8\n",
      "7982/7982 [==============================] - 0s 57us/step - loss: 0.7016 - acc: 0.8513 - val_loss: 1.0108 - val_acc: 0.7860\n",
      "Epoch 6/8\n",
      "7982/7982 [==============================] - 0s 58us/step - loss: 0.5659 - acc: 0.8809 - val_loss: 0.9495 - val_acc: 0.8080\n",
      "Epoch 7/8\n",
      "7982/7982 [==============================] - 0s 53us/step - loss: 0.4583 - acc: 0.9054 - val_loss: 0.9296 - val_acc: 0.8030\n",
      "Epoch 8/8\n",
      "7982/7982 [==============================] - 0s 54us/step - loss: 0.3704 - acc: 0.9251 - val_loss: 0.9093 - val_acc: 0.8090\n",
      "2246/2246 [==============================] - 0s 54us/step\n"
     ]
    }
   ],
   "source": [
    "red2 = models.Sequential()\n",
    "red2.add(layers.Dense(64, activation='relu', input_shape=(10000,)))\n",
    "red2.add(layers.Dense(64, activation='relu'))\n",
    "red2.add(layers.Dense(46, activation='softmax'))\n",
    "\n",
    "red2.compile(optimizer='rmsprop',\n",
    "              loss='categorical_crossentropy',\n",
    "              metrics=['accuracy'])\n",
    "red2.fit(partial_x_train,\n",
    "          partial_y_train,\n",
    "          epochs=8,\n",
    "          batch_size=512,\n",
    "          validation_data=(x_val, y_val))\n",
    "results = red2.evaluate(x_test, one_hot_test_labels)"
   ]
  },
  {
   "cell_type": "code",
   "execution_count": 25,
   "metadata": {},
   "outputs": [
    {
     "data": {
      "text/plain": [
       "[1.0018587503068064, 0.7827248441674087]"
      ]
     },
     "execution_count": 25,
     "metadata": {},
     "output_type": "execute_result"
    }
   ],
   "source": [
    "results"
   ]
  },
  {
   "cell_type": "markdown",
   "metadata": {},
   "source": [
    "\n",
    "El modelo obtenido consigue una accuracy de ~78%. Si la clasificación fuera binaria y estuviera balanceada, un calsificador aleatorio alcanzaría un 50%, pero al ser multi-clase en este caso uno aleatorio esperaría no más del 19%, por lo no lo hace nada mal:\n"
   ]
  },
  {
   "cell_type": "code",
   "execution_count": 26,
   "metadata": {},
   "outputs": [
    {
     "data": {
      "text/plain": [
       "0.19323241317898487"
      ]
     },
     "execution_count": 26,
     "metadata": {},
     "output_type": "execute_result"
    }
   ],
   "source": [
    "import copy\n",
    "\n",
    "test_labels_copy = copy.copy(test_labels)\n",
    "np.random.shuffle(test_labels_copy)\n",
    "float(np.sum(np.array(test_labels) == np.array(test_labels_copy))) / len(test_labels)"
   ]
  },
  {
   "cell_type": "markdown",
   "metadata": {},
   "source": [
    "## Predicciones en nuevos datos\n",
    "\n",
    "Usando el método `predict` podemos ver cómo nuestro modelo funciona sobre datos no vistos. Por ejemplo, si trabajamos sobre los datos de test:"
   ]
  },
  {
   "cell_type": "code",
   "execution_count": 27,
   "metadata": {},
   "outputs": [],
   "source": [
    "predictions = red2.predict(x_test)"
   ]
  },
  {
   "cell_type": "markdown",
   "metadata": {},
   "source": [
    "Podemos comprobar que cada entrada de `predictions` es un vector de longitud 46:\n"
   ]
  },
  {
   "cell_type": "code",
   "execution_count": 28,
   "metadata": {},
   "outputs": [
    {
     "data": {
      "text/plain": [
       "(46,)"
      ]
     },
     "execution_count": 28,
     "metadata": {},
     "output_type": "execute_result"
    }
   ],
   "source": [
    "predictions[0].shape"
   ]
  },
  {
   "cell_type": "markdown",
   "metadata": {},
   "source": [
    "Cuyos coeficientes suman 1:\n"
   ]
  },
  {
   "cell_type": "code",
   "execution_count": 29,
   "metadata": {},
   "outputs": [
    {
     "data": {
      "text/plain": [
       "0.9999998"
      ]
     },
     "execution_count": 29,
     "metadata": {},
     "output_type": "execute_result"
    }
   ],
   "source": [
    "np.sum(predictions[0])"
   ]
  },
  {
   "cell_type": "markdown",
   "metadata": {},
   "source": [
    "Y donde el mayor valor indica la predicción del modelo (la mayor probabilidad:\n"
   ]
  },
  {
   "cell_type": "code",
   "execution_count": 30,
   "metadata": {},
   "outputs": [
    {
     "data": {
      "text/plain": [
       "3"
      ]
     },
     "execution_count": 30,
     "metadata": {},
     "output_type": "execute_result"
    }
   ],
   "source": [
    "np.argmax(predictions[0])"
   ]
  },
  {
   "cell_type": "markdown",
   "metadata": {},
   "source": [
    "## Salidas Categóricas Discretas\n",
    "\n",
    "Si hubiéramos decidido manejar las etiquetas directamente como valores enteros, entonces hubiera sido conveniente cambiar de función de pérdida de `categorical_crossentropy` a `sparse_categorical_crossentropy`, que está preparada para medir errores cuando las salidas son categóricas pero no continuas (como en el caso de distribuciones de probabilidad):"
   ]
  },
  {
   "cell_type": "code",
   "execution_count": 31,
   "metadata": {},
   "outputs": [],
   "source": [
    "y_train = np.array(train_labels)\n",
    "y_test = np.array(test_labels)"
   ]
  },
  {
   "cell_type": "code",
   "execution_count": 32,
   "metadata": {},
   "outputs": [],
   "source": [
    "red2.compile(optimizer='rmsprop', loss='sparse_categorical_crossentropy', metrics=['acc'])"
   ]
  },
  {
   "cell_type": "markdown",
   "metadata": {},
   "source": [
    "En realidad, es la misma función que antes, pero con transformaciones internas para manejar valores enteros.\n"
   ]
  },
  {
   "cell_type": "markdown",
   "metadata": {},
   "source": [
    "## Tamaño de las capas intermedias\n",
    "\n",
    "Podemos hacer el experimento de ver qué pasaría si trabajáramos con capas intermedias que producen cuellos de botella a la información que se transmite a lo largo de la red. Por ejemplo, si la segunda capa la cambiamos a 4 unidades:"
   ]
  },
  {
   "cell_type": "code",
   "execution_count": 33,
   "metadata": {},
   "outputs": [
    {
     "name": "stdout",
     "output_type": "stream",
     "text": [
      "Train on 7982 samples, validate on 1000 samples\n",
      "Epoch 1/20\n",
      "7982/7982 [==============================] - 1s 66us/step - loss: 2.9259 - acc: 0.3579 - val_loss: 2.1839 - val_acc: 0.4920\n",
      "Epoch 2/20\n",
      "7982/7982 [==============================] - 0s 43us/step - loss: 1.7924 - acc: 0.5818 - val_loss: 1.5956 - val_acc: 0.6060\n",
      "Epoch 3/20\n",
      "7982/7982 [==============================] - 0s 44us/step - loss: 1.4206 - acc: 0.6287 - val_loss: 1.4530 - val_acc: 0.6330\n",
      "Epoch 4/20\n",
      "7982/7982 [==============================] - 0s 48us/step - loss: 1.2409 - acc: 0.6751 - val_loss: 1.3694 - val_acc: 0.6510\n",
      "Epoch 5/20\n",
      "7982/7982 [==============================] - 0s 47us/step - loss: 1.1029 - acc: 0.6939 - val_loss: 1.3084 - val_acc: 0.6660\n",
      "Epoch 6/20\n",
      "7982/7982 [==============================] - 0s 49us/step - loss: 0.9814 - acc: 0.7315 - val_loss: 1.2697 - val_acc: 0.7010\n",
      "Epoch 7/20\n",
      "7982/7982 [==============================] - 0s 49us/step - loss: 0.8748 - acc: 0.7709 - val_loss: 1.2550 - val_acc: 0.7150\n",
      "Epoch 8/20\n",
      "7982/7982 [==============================] - 0s 46us/step - loss: 0.7963 - acc: 0.7993 - val_loss: 1.2566 - val_acc: 0.7150\n",
      "Epoch 9/20\n",
      "7982/7982 [==============================] - 0s 45us/step - loss: 0.7301 - acc: 0.8160 - val_loss: 1.3551 - val_acc: 0.7080\n",
      "Epoch 10/20\n",
      "7982/7982 [==============================] - 0s 44us/step - loss: 0.6801 - acc: 0.8265 - val_loss: 1.2993 - val_acc: 0.7130\n",
      "Epoch 11/20\n",
      "7982/7982 [==============================] - 0s 45us/step - loss: 0.6350 - acc: 0.8348 - val_loss: 1.3449 - val_acc: 0.7110\n",
      "Epoch 12/20\n",
      "7982/7982 [==============================] - 0s 51us/step - loss: 0.5970 - acc: 0.8474 - val_loss: 1.3572 - val_acc: 0.7240\n",
      "Epoch 13/20\n",
      "7982/7982 [==============================] - 0s 46us/step - loss: 0.5612 - acc: 0.8574 - val_loss: 1.4025 - val_acc: 0.7250\n",
      "Epoch 14/20\n",
      "7982/7982 [==============================] - 0s 45us/step - loss: 0.5303 - acc: 0.8657 - val_loss: 1.4415 - val_acc: 0.7150\n",
      "Epoch 15/20\n",
      "7982/7982 [==============================] - 0s 46us/step - loss: 0.5046 - acc: 0.8688 - val_loss: 1.4937 - val_acc: 0.7110\n",
      "Epoch 16/20\n",
      "7982/7982 [==============================] - 0s 46us/step - loss: 0.4816 - acc: 0.8732 - val_loss: 1.5218 - val_acc: 0.7190\n",
      "Epoch 17/20\n",
      "7982/7982 [==============================] - 0s 46us/step - loss: 0.4584 - acc: 0.8743 - val_loss: 1.5739 - val_acc: 0.7090\n",
      "Epoch 18/20\n",
      "7982/7982 [==============================] - 0s 46us/step - loss: 0.4395 - acc: 0.8765 - val_loss: 1.5887 - val_acc: 0.7130\n",
      "Epoch 19/20\n",
      "7982/7982 [==============================] - 0s 52us/step - loss: 0.4216 - acc: 0.8812 - val_loss: 1.6307 - val_acc: 0.7130\n",
      "Epoch 20/20\n",
      "7982/7982 [==============================] - 0s 45us/step - loss: 0.4065 - acc: 0.8865 - val_loss: 1.6782 - val_acc: 0.7130\n"
     ]
    },
    {
     "data": {
      "text/plain": [
       "<keras.callbacks.History at 0x7f4ccd3482b0>"
      ]
     },
     "execution_count": 33,
     "metadata": {},
     "output_type": "execute_result"
    }
   ],
   "source": [
    "red3 = models.Sequential()\n",
    "red3.add(layers.Dense(64, activation='relu', input_shape=(10000,)))\n",
    "red3.add(layers.Dense(4, activation='relu'))\n",
    "red3.add(layers.Dense(46, activation='softmax'))\n",
    "\n",
    "red3.compile(optimizer='rmsprop',\n",
    "              loss='categorical_crossentropy',\n",
    "              metrics=['accuracy'])\n",
    "red3.fit(partial_x_train,\n",
    "          partial_y_train,\n",
    "          epochs=20,\n",
    "          batch_size=128,\n",
    "          validation_data=(x_val, y_val))"
   ]
  },
  {
   "cell_type": "markdown",
   "metadata": {},
   "source": [
    "\n",
    "Podemos observar que el rendimiento del modelo cae al ~66% de accuracy, un 12% de caida respecto a la aproximación anterior, debido al hecho de que ahora la red intenta comprimir toda la información de las 64 neuronas anteriores en 4 neuronas para volver a descomprimirlo en 46 neuronas de salida, y aunque es capaz de mantener mucha información en esas pocas neuronas, pierde mucha estructura de la información original en ese proceso.\n"
   ]
  },
  {
   "cell_type": "markdown",
   "metadata": {},
   "source": [
    "### Trabajo Propuesto\n",
    "\n",
    "* Intenta usar otro tamaño en las capas, ampliando o reduciendo: 32, 128,...\n",
    "* Intenta usar más o menos cantidad de capas ocultas."
   ]
  },
  {
   "cell_type": "markdown",
   "metadata": {},
   "source": [
    "## Conclusiones\n",
    "\n",
    "Algunas conclusiones que podemos ir apuntando de este ejemplo:\n",
    "\n",
    "* Si quieres clasificar entre $N$ clases, tu red debe acabar en una capa densa de tamaño $N$.\n",
    "* Si la clasificación es disjunta, la última capa debe usar activación `softmax`, de esa forma obtendrás una distribución de probabilidad sobre las N clases de salida.\n",
    "* Casi con toda seguridad tendrás que usar *Categorical crossentropy* como función de pérdida.\n",
    "* Hay dos formas de manejar las etiquetas en un problema de clasificación multi-clase:\n",
    "    * Por _Codificación Categórica_ (\"one-hot encoding\") y usando `categorical_crossentropy` como función de pérdida.\n",
    "    * Codificando las etiquetas como enteros, y usando `sparse_categorical_crossentropy` como función de pérdida.\n",
    "* Si el número de categorías es muy alto, evita los cuellos de botella con capas intermedias demasiado pequeñas."
   ]
  },
  {
   "cell_type": "code",
   "execution_count": null,
   "metadata": {},
   "outputs": [],
   "source": []
  }
 ],
 "metadata": {
  "kernelspec": {
   "display_name": "Python 3",
   "language": "python",
   "name": "python3"
  },
  "language_info": {
   "codemirror_mode": {
    "name": "ipython",
    "version": 3
   },
   "file_extension": ".py",
   "mimetype": "text/x-python",
   "name": "python",
   "nbconvert_exporter": "python",
   "pygments_lexer": "ipython3",
   "version": "3.6.6"
  }
 },
 "nbformat": 4,
 "nbformat_minor": 2
}
