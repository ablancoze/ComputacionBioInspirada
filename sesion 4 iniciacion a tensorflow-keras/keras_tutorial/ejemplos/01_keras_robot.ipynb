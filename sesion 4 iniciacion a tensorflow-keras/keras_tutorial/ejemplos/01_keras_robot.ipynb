{
 "cells": [
  {
   "cell_type": "markdown",
   "metadata": {},
   "source": [
    "Problema:\n",
    "Necesitamos mover un robot muy simple dependiendo de ciertos estados de los sensores de obstáculos de un robot para lo cual vamos a optar por una de neuronal que sea capaz de tomar la decisión de movimiento basada en la distintas posibilidades de los sensores.\n",
    "Sensor distancia. Nos detecta un obstáculo con tres posibles datos:\n",
    "    - 0 si no hay obstáculo\n",
    "    - 0.5 si está a media distancia\n",
    "    - 1 si está muy cerca.\n",
    "Posición del obstáculo:\n",
    "    - -1 izquierda\n",
    "    -  0 centro\n",
    "    -  1 derecho\n",
    "En cuanto a las salidas tenemos las dos velocidades de los motores izquierdo y derecho del robot:\n",
    "    - -1: velocidad atras\n",
    "    -  0: motor parado\n",
    "    -  1: velocidad adelante\n",
    "Hay que construir y entrenar una ANN simple para que cumpla con las condiciones de funcionamiento."
   ]
  },
  {
   "cell_type": "code",
   "execution_count": 11,
   "metadata": {},
   "outputs": [],
   "source": [
    "import numpy as np\n",
    "from keras.models import Sequential\n",
    "from keras.layers.core import Dense\n",
    "from keras import optimizers\n",
    "import matplotlib.pyplot as plt\n"
   ]
  },
  {
   "cell_type": "code",
   "execution_count": 12,
   "metadata": {},
   "outputs": [],
   "source": [
    "X = np.array([[0, -1],[0, 0],[0, 1],[0.5, -1],[0.5, 0],[0.5, 1],[1, -1],[1, 0],[1, 1]]).astype(\"float32\")\n",
    "Y = np.array([[1,0,0,0],[1,0,0,0],[1,0,0,0],[0,1,0,0],[0,1,0,0],[0,1,0,0],[0,0,1,0],[0,0,0,0],[0,0,1,0]]).astype(\"float32\")\n"
   ]
  },
  {
   "cell_type": "code",
   "execution_count": 13,
   "metadata": {},
   "outputs": [
    {
     "name": "stdout",
     "output_type": "stream",
     "text": [
      "_________________________________________________________________\n",
      "Layer (type)                 Output Shape              Param #   \n",
      "=================================================================\n",
      "l_imput (Dense)              (None, 16)                48        \n",
      "_________________________________________________________________\n",
      "l_hidden (Dense)             (None, 8)                 136       \n",
      "_________________________________________________________________\n",
      "output (Dense)               (None, 4)                 36        \n",
      "=================================================================\n",
      "Total params: 220\n",
      "Trainable params: 220\n",
      "Non-trainable params: 0\n",
      "_________________________________________________________________\n"
     ]
    }
   ],
   "source": [
    "model = Sequential()\n",
    "model.add(Dense(16, input_dim=2, activation='relu',name=\"l_imput\"))\n",
    "model.add(Dense(8, activation='relu',name=\"l_hidden\"))\n",
    "model.add(Dense(8, activation='sigmoid',name=\"l_hidden1\"))\n",
    "model.add(Dense(4, activation='softmax',name=\"output\"))\n",
    "model.summary()\n",
    "model.compile(loss='categorical_crossentropy',\n",
    "              optimizer='adam',\n",
    "              metrics=['accuracy'])\n"
   ]
  },
  {
   "cell_type": "code",
   "execution_count": 17,
   "metadata": {},
   "outputs": [
    {
     "name": "stdout",
     "output_type": "stream",
     "text": [
      "fitting\n",
      "9/9 [==============================] - 0s 57us/step\n",
      "end evaluate\n",
      "\n",
      "acc: 88.89%\n"
     ]
    }
   ],
   "source": [
    "print(\"fitting\")\n",
    "history = model.fit(X, Y, epochs=10000,verbose=False)\n",
    "# evaluamos el modelo\n",
    "test_loss, test_acc = model.evaluate(X, Y)\n",
    "print(\"end evaluate\")\n",
    "print(\"\\n%s: %.2f%%\" % (model.metrics_names[1], test_acc*100))\n",
    "\n",
    "\n"
   ]
  },
  {
   "cell_type": "code",
   "execution_count": 18,
   "metadata": {},
   "outputs": [
    {
     "name": "stdout",
     "output_type": "stream",
     "text": [
      "[ 0. -1.] -- [1. 0. 0. 0.]  predict:  [1. 0. 0. 0.]\n",
      "[0. 0.] -- [1. 0. 0. 0.]  predict:  [1. 0. 0. 0.]\n",
      "[0. 1.] -- [1. 0. 0. 0.]  predict:  [1. 0. 0. 0.]\n",
      "[ 0.5 -1. ] -- [0. 1. 0. 0.]  predict:  [0. 1. 0. 0.]\n",
      "[0.5 0. ] -- [0. 1. 0. 0.]  predict:  [0. 1. 0. 0.]\n",
      "[0.5 1. ] -- [0. 1. 0. 0.]  predict:  [0. 1. 0. 0.]\n",
      "[ 1. -1.] -- [0. 0. 1. 0.]  predict:  [0. 0. 1. 0.]\n",
      "[1. 0.] -- [0. 0. 0. 0.]  predict:  [0. 0. 1. 0.]\n",
      "[1. 1.] -- [0. 0. 1. 0.]  predict:  [0. 0. 1. 0.]\n"
     ]
    }
   ],
   "source": [
    "\n",
    "\n",
    "for i in range(len(X)):\n",
    "    print (X[i],\"--\",Y[i],\" predict: \",model.predict(X)[i].round())"
   ]
  },
  {
   "cell_type": "code",
   "execution_count": 20,
   "metadata": {},
   "outputs": [
    {
     "data": {
      "image/png": "[encoded data removed]",
      "text/plain": [
       "<Figure size 432x288 with 1 Axes>"
      ]
     },
     "metadata": {
      "needs_background": "light"
     },
     "output_type": "display_data"
    },
    {
     "data": {
      "image/png": "[encoded data removed]",
      "text/plain": [
       "<Figure size 432x288 with 1 Axes>"
      ]
     },
     "metadata": {
      "needs_background": "light"
     },
     "output_type": "display_data"
    }
   ],
   "source": [
    "# Plot training & validation accuracy values\n",
    "plt.plot(history.history['acc'])\n",
    "\n",
    "plt.title('Model accuracy')\n",
    "plt.ylabel('Accuracy')\n",
    "plt.xlabel('Epoch')\n",
    "plt.legend(['Train', 'Test'], loc='upper left')\n",
    "plt.show()\n",
    "\n",
    "# Plot training & validation loss values\n",
    "plt.plot(history.history['loss'])\n",
    "\n",
    "plt.title('Model loss')\n",
    "plt.ylabel('Loss')\n",
    "plt.xlabel('Epoch')\n",
    "plt.legend(['Train', 'Test'], loc='upper left')\n",
    "plt.show()\n"
   ]
  },
  {
   "cell_type": "code",
   "execution_count": null,
   "metadata": {},
   "outputs": [],
   "source": []
  }
 ],
 "metadata": {
  "kernelspec": {
   "display_name": "Python 3",
   "language": "python",
   "name": "python3"
  },
  "language_info": {
   "codemirror_mode": {
    "name": "ipython",
    "version": 3
   },
   "file_extension": ".py",
   "mimetype": "text/x-python",
   "name": "python",
   "nbconvert_exporter": "python",
   "pygments_lexer": "ipython3",
   "version": "3.6.6"
  }
 },
 "nbformat": 4,
 "nbformat_minor": 2
}
