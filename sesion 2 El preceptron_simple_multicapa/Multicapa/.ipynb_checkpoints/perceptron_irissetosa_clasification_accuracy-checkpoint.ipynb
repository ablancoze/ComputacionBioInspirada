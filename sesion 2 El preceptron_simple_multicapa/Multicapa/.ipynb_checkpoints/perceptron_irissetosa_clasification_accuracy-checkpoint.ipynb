{
 "cells": [
  {
   "cell_type": "code",
   "execution_count": 194,
   "metadata": {},
   "outputs": [],
   "source": [
    "import numpy as np\n",
    "import scipy as sc\n",
    "import matplotlib.pyplot as plt\n"
   ]
  },
  {
   "cell_type": "code",
   "execution_count": 195,
   "metadata": {},
   "outputs": [],
   "source": [
    "# FUNCIONES DE ACTIVACION\n",
    "class function(object):\n",
    "    def __init__(self,funcion,derivative=None):\n",
    "        self.F=funcion\n",
    "        self.D=derivative"
   ]
  },
  {
   "cell_type": "code",
   "execution_count": 196,
   "metadata": {},
   "outputs": [
    {
     "data": {
      "text/plain": [
       "[<matplotlib.lines.Line2D at 0x241961d5438>]"
      ]
     },
     "execution_count": 196,
     "metadata": {},
     "output_type": "execute_result"
    },
    {
     "data": {
      "image/png": "[encoded data removed]",
      "text/plain": [
       "<Figure size 432x288 with 1 Axes>"
      ]
     },
     "metadata": {
      "needs_background": "light"
     },
     "output_type": "display_data"
    }
   ],
   "source": [
    "\n",
    "\n",
    "#funciones de activación\n",
    "\n",
    "def cross_entropy(predictions, targets, epsilon=1e-12):\n",
    "    predictions = np.clip(predictions, epsilon, 1. - epsilon)\n",
    "    N = predictions.shape[0]\n",
    "    ce = -np.sum(targets*np.log(predictions+1e-9))/N\n",
    "    return ce\n",
    "\n",
    "\n",
    "\n",
    "lineal=function(funcion=lambda x:x,derivative=lambda x:1)\n",
    "sigm=function(funcion=lambda x: 1 / (1 + np.e ** (-x)),derivative=lambda x: x * (1 - x))\n",
    "tanh=function(funcion=lambda x: 2 / (1 + np.e ** (2*x))-1,derivative=lambda x:1-((2 / (1 + np.e ** (2*x)))-1)**2)\n",
    "\n",
    "softmax=function(funcion=lambda x: np.exp(x) / np.sum(np.exp(x), axis=0), derivative=lambda x:x*(1-x))\n",
    "relu=function(funcion=lambda x: np.maximum(0, x) ,derivative=lambda x: np.where(x<=0,0,1))\n",
    "\n",
    "# funciones de coste\n",
    "l2_cost=function(funcion=lambda Yp, Yr: np.mean((Yp - Yr) ** 2) ,derivative=lambda Yp, Yr: (Yp - Yr))\n",
    "\n",
    "_x = np.linspace(-10, 10, 100)\n",
    "\n",
    "plt.plot(_x, sigm.F(_x),\"tab:blue\")\n",
    "\n"
   ]
  },
  {
   "cell_type": "code",
   "execution_count": 221,
   "metadata": {},
   "outputs": [],
   "source": [
    "# CLASE DE LA CAPA DE LA RED\n",
    "from IPython.display import clear_output\n",
    "import time\n",
    "\n",
    "class neural_layer():\n",
    " \n",
    "  def __init__(self, n_conn, n_neur, act_f):\n",
    "    self.act = act_f\n",
    "    self.b = np.random.rand(1, n_neur)      * 2 - 1\n",
    "    self.W = np.random.rand(n_conn, n_neur) * 2 - 1\n",
    "    \n",
    "# creación de una red neuronal según topologia\n",
    "def create_nn(topology):\n",
    "  nn = []\n",
    "  for l, layer in enumerate(topology[:-1]):\n",
    "    nn.append(neural_layer(topology[l][0], topology[l+1][0], topology[l][1]))\n",
    "  return nn\n",
    "    \n",
    "# fucnción de predicción (fordware pass)    \n",
    "def predict(neural_net, X):\n",
    "  \n",
    "  out = [(None, X)] #primer data necesario\n",
    "  \n",
    "  # Forward pass\n",
    "  for l, layer in enumerate(neural_net):\n",
    "    z = out[-1][1] @ neural_net[l].W + neural_net[l].b\n",
    "    a = neural_net[l].act.F(z)\n",
    "    out.append((z, a))\n",
    "  return out[-1][1]\n",
    "  \n",
    "# función retropropagación del error\n",
    "def backward_pass(neural_net, X, Y, l2_cost, lr=0.5,momentun=1,batch_size=1):\n",
    "  sx=np.shape(X)\n",
    "  sy=np.shape(Y)\n",
    "  X=X.reshape(1,sx[0])\n",
    "  Y=Y.reshape(1,sy[0])\n",
    "  out = [(None, X)] #primer data necesario\n",
    "  \n",
    "  # Forward pass\n",
    "  for l, layer in enumerate(neural_net):\n",
    "    z = out[-1][1] @ neural_net[l].W + neural_net[l].b\n",
    "    a = neural_net[l].act.F(z)\n",
    "    out.append((z, a))\n",
    "  acc=np.round(a)==Y\n",
    "  # Backward pass \n",
    "  deltas = []\n",
    "  for l in reversed(range(0, len(neural_net))):\n",
    "    z = out[l+1][0]\n",
    "    a = out[l+1][1]\n",
    "    if l == len(neural_net) - 1:\n",
    "      deltas.insert(0, l2_cost.D(a, Y) * neural_net[l].act.D(a))\n",
    "    else:\n",
    "      deltas.insert(0, deltas[0] @ _W.T * neural_net[l].act.D(a))\n",
    "    _W = neural_net[l].W\n",
    " \n",
    "    # Gradient descent\n",
    "    neural_net[l].b = neural_net[l].b - np.mean(deltas[0], axis=0, keepdims=True) * lr   \n",
    "    neural_net[l].W = neural_net[l].W - out[l][1].T @ deltas[0] * lr\n",
    "  return out[-1][1],acc\n",
    "\n",
    "\n",
    "# función de entrenamiento de la red\n",
    "def train(neural_net,X,Y,l2_cost,lr=0.5,epoch=1000,momentun=1,batch_size=1):\n",
    "    loss = []\n",
    "    ACC =[]\n",
    "    for i in range(epoch):\n",
    "        account=0\n",
    "        # Entrenemos a la red!\n",
    "        for j in range(len(X)):\n",
    "            pY,acc = backward_pass(neural_n, X[j,:], Y[j,:], l2_cost, lr,momentun,batch_size)\n",
    "            if acc.all():\n",
    "                account+=1\n",
    "        print(\"Epoch={}, Loss={} Accuracy={}\".format(i,round(l2_cost.F(pY,Y[j,:]),15),round(account/len(Y),3)),end=\"\")\n",
    "        clear_output(wait=True)\n",
    "        ACC.append(account/len(Y))    \n",
    "        loss.append(l2_cost.F(pY,Y[j,:]))\n",
    "     \n",
    "    return loss,ACC"
   ]
  },
  {
   "cell_type": "code",
   "execution_count": 222,
   "metadata": {},
   "outputs": [
    {
     "name": "stdout",
     "output_type": "stream",
     "text": [
      "(150, 4)\n"
     ]
    }
   ],
   "source": [
    "import csv\n",
    "X=[]\n",
    "Y=[]\n",
    "with open('iris.csv') as csvfile:\n",
    "    readCSV = csv.reader(csvfile, delimiter=',')\n",
    "    for row in readCSV:\n",
    "        row=row[0].split(\",\")\n",
    "        X.append([float(row[0])/10,float(row[1])/10,float(row[2])/10,float(row[3])/10])\n",
    "\n",
    "        if row[4]=='\"Setosa\"':\n",
    "            Y.append([1,0,0])\n",
    "        if row[4]=='\"Versicolor\"':\n",
    "            Y.append([0,1,0])\n",
    "        if row[4]=='\"Virginica\"':\n",
    "            Y.append([0,0,1])\n",
    "\n",
    "\n",
    "Xtrain=np.array(X)\n",
    "Ytrain=np.array(Y)\n",
    "\n",
    "print(np.shape(Xtrain))\n"
   ]
  },
  {
   "cell_type": "code",
   "execution_count": 228,
   "metadata": {},
   "outputs": [
    {
     "name": "stdout",
     "output_type": "stream",
     "text": [
      "Epoch=399, Loss=0.000224644131052 Accuracy=0.993"
     ]
    }
   ],
   "source": [
    "# definicion de la red\n",
    "#topology = [(4,sigm),(16,sigm),(3,sigm)] #buena configuracion\n",
    "topology = [(4,sigm),(8,sigm),(4,sigm),(3,softmax)]\n",
    "neural_n = create_nn(topology)  \n",
    "# FUNCION DE ENTRENAMIENTO\n",
    "\n",
    "epoch=400\n",
    "lr=0.2\n",
    "batch_size=1\n",
    "momentun=1\n",
    "loss = []\n",
    "accuracy=[]\n",
    "\n",
    "loss,accuracy=train(neural_n,Xtrain,Ytrain,l2_cost,lr,epoch,momentun,batch_size)\n",
    "\n"
   ]
  },
  {
   "cell_type": "code",
   "execution_count": 229,
   "metadata": {},
   "outputs": [
    {
     "data": {
      "image/png": "[encoded data removed]",
      "text/plain": [
       "<Figure size 432x288 with 1 Axes>"
      ]
     },
     "metadata": {
      "needs_background": "light"
     },
     "output_type": "display_data"
    },
    {
     "data": {
      "image/png": "[encoded data removed]",
      "text/plain": [
       "<Figure size 432x288 with 1 Axes>"
      ]
     },
     "metadata": {
      "needs_background": "light"
     },
     "output_type": "display_data"
    }
   ],
   "source": [
    "plt.plot(range(len(loss)), loss)\n",
    "plt.ylabel(\"loss function\")\n",
    "plt.xlabel(\"EPOCH NUMBER\")\n",
    "plt.show()\n",
    "plt.plot(range(len(accuracy)), accuracy, \"tab:red\")\n",
    "plt.ylabel(\"ACCURACY\")\n",
    "plt.xlabel(\"EPOCH NUMBER\")\n",
    "plt.show()\n",
    "  "
   ]
  },
  {
   "cell_type": "code",
   "execution_count": 227,
   "metadata": {},
   "outputs": [
    {
     "name": "stdout",
     "output_type": "stream",
     "text": [
      "predecir  [0.51 0.35 0.14 0.02] -- [1 0 0]  predict:  [[1. 0. 0.]]\n",
      "predecir  [0.49 0.3  0.14 0.02] -- [1 0 0]  predict:  [[1. 0. 0.]]\n",
      "predecir  [0.47 0.32 0.13 0.02] -- [1 0 0]  predict:  [[1. 0. 0.]]\n",
      "predecir  [0.46 0.31 0.15 0.02] -- [1 0 0]  predict:  [[1. 0. 0.]]\n",
      "predecir  [0.5  0.36 0.14 0.02] -- [1 0 0]  predict:  [[1. 0. 0.]]\n",
      "predecir  [0.54 0.39 0.17 0.04] -- [1 0 0]  predict:  [[1. 0. 0.]]\n",
      "predecir  [0.46 0.34 0.14 0.03] -- [1 0 0]  predict:  [[1. 0. 0.]]\n",
      "predecir  [0.5  0.34 0.15 0.02] -- [1 0 0]  predict:  [[1. 0. 0.]]\n",
      "predecir  [0.44 0.29 0.14 0.02] -- [1 0 0]  predict:  [[1. 0. 0.]]\n",
      "predecir  [0.49 0.31 0.15 0.01] -- [1 0 0]  predict:  [[1. 0. 0.]]\n",
      "predecir  [0.54 0.37 0.15 0.02] -- [1 0 0]  predict:  [[1. 0. 0.]]\n",
      "predecir  [0.48 0.34 0.16 0.02] -- [1 0 0]  predict:  [[1. 0. 0.]]\n",
      "predecir  [0.48 0.3  0.14 0.01] -- [1 0 0]  predict:  [[1. 0. 0.]]\n",
      "predecir  [0.43 0.3  0.11 0.01] -- [1 0 0]  predict:  [[1. 0. 0.]]\n",
      "predecir  [0.58 0.4  0.12 0.02] -- [1 0 0]  predict:  [[1. 0. 0.]]\n",
      "predecir  [0.57 0.44 0.15 0.04] -- [1 0 0]  predict:  [[1. 0. 0.]]\n",
      "predecir  [0.54 0.39 0.13 0.04] -- [1 0 0]  predict:  [[1. 0. 0.]]\n",
      "predecir  [0.51 0.35 0.14 0.03] -- [1 0 0]  predict:  [[1. 0. 0.]]\n",
      "predecir  [0.57 0.38 0.17 0.03] -- [1 0 0]  predict:  [[1. 0. 0.]]\n",
      "predecir  [0.51 0.38 0.15 0.03] -- [1 0 0]  predict:  [[1. 0. 0.]]\n",
      "predecir  [0.54 0.34 0.17 0.02] -- [1 0 0]  predict:  [[1. 0. 0.]]\n",
      "predecir  [0.51 0.37 0.15 0.04] -- [1 0 0]  predict:  [[1. 0. 0.]]\n",
      "predecir  [0.46 0.36 0.1  0.02] -- [1 0 0]  predict:  [[1. 0. 0.]]\n",
      "predecir  [0.51 0.33 0.17 0.05] -- [1 0 0]  predict:  [[1. 0. 0.]]\n",
      "predecir  [0.48 0.34 0.19 0.02] -- [1 0 0]  predict:  [[1. 0. 0.]]\n",
      "predecir  [0.5  0.3  0.16 0.02] -- [1 0 0]  predict:  [[1. 0. 0.]]\n",
      "predecir  [0.5  0.34 0.16 0.04] -- [1 0 0]  predict:  [[1. 0. 0.]]\n",
      "predecir  [0.52 0.35 0.15 0.02] -- [1 0 0]  predict:  [[1. 0. 0.]]\n",
      "predecir  [0.52 0.34 0.14 0.02] -- [1 0 0]  predict:  [[1. 0. 0.]]\n",
      "predecir  [0.47 0.32 0.16 0.02] -- [1 0 0]  predict:  [[1. 0. 0.]]\n",
      "predecir  [0.48 0.31 0.16 0.02] -- [1 0 0]  predict:  [[1. 0. 0.]]\n",
      "predecir  [0.54 0.34 0.15 0.04] -- [1 0 0]  predict:  [[1. 0. 0.]]\n",
      "predecir  [0.52 0.41 0.15 0.01] -- [1 0 0]  predict:  [[1. 0. 0.]]\n",
      "predecir  [0.55 0.42 0.14 0.02] -- [1 0 0]  predict:  [[1. 0. 0.]]\n",
      "predecir  [0.49 0.31 0.15 0.02] -- [1 0 0]  predict:  [[1. 0. 0.]]\n",
      "predecir  [0.5  0.32 0.12 0.02] -- [1 0 0]  predict:  [[1. 0. 0.]]\n",
      "predecir  [0.55 0.35 0.13 0.02] -- [1 0 0]  predict:  [[1. 0. 0.]]\n",
      "predecir  [0.49 0.36 0.14 0.01] -- [1 0 0]  predict:  [[1. 0. 0.]]\n",
      "predecir  [0.44 0.3  0.13 0.02] -- [1 0 0]  predict:  [[1. 0. 0.]]\n",
      "predecir  [0.51 0.34 0.15 0.02] -- [1 0 0]  predict:  [[1. 0. 0.]]\n",
      "predecir  [0.5  0.35 0.13 0.03] -- [1 0 0]  predict:  [[1. 0. 0.]]\n",
      "predecir  [0.45 0.23 0.13 0.03] -- [1 0 0]  predict:  [[1. 0. 0.]]\n",
      "predecir  [0.44 0.32 0.13 0.02] -- [1 0 0]  predict:  [[1. 0. 0.]]\n",
      "predecir  [0.5  0.35 0.16 0.06] -- [1 0 0]  predict:  [[1. 0. 0.]]\n",
      "predecir  [0.51 0.38 0.19 0.04] -- [1 0 0]  predict:  [[1. 0. 0.]]\n",
      "predecir  [0.48 0.3  0.14 0.03] -- [1 0 0]  predict:  [[1. 0. 0.]]\n",
      "predecir  [0.51 0.38 0.16 0.02] -- [1 0 0]  predict:  [[1. 0. 0.]]\n",
      "predecir  [0.46 0.32 0.14 0.02] -- [1 0 0]  predict:  [[1. 0. 0.]]\n",
      "predecir  [0.53 0.37 0.15 0.02] -- [1 0 0]  predict:  [[1. 0. 0.]]\n",
      "predecir  [0.5  0.33 0.14 0.02] -- [1 0 0]  predict:  [[1. 0. 0.]]\n",
      "predecir  [0.7  0.32 0.47 0.14] -- [0 1 0]  predict:  [[0. 1. 0.]]\n",
      "predecir  [0.64 0.32 0.45 0.15] -- [0 1 0]  predict:  [[0. 1. 0.]]\n",
      "predecir  [0.69 0.31 0.49 0.15] -- [0 1 0]  predict:  [[0. 1. 0.]]\n",
      "predecir  [0.55 0.23 0.4  0.13] -- [0 1 0]  predict:  [[0. 1. 0.]]\n",
      "predecir  [0.65 0.28 0.46 0.15] -- [0 1 0]  predict:  [[0. 1. 0.]]\n",
      "predecir  [0.57 0.28 0.45 0.13] -- [0 1 0]  predict:  [[0. 1. 0.]]\n",
      "predecir  [0.63 0.33 0.47 0.16] -- [0 1 0]  predict:  [[0. 1. 0.]]\n",
      "predecir  [0.49 0.24 0.33 0.1 ] -- [0 1 0]  predict:  [[0. 1. 0.]]\n",
      "predecir  [0.66 0.29 0.46 0.13] -- [0 1 0]  predict:  [[0. 1. 0.]]\n",
      "predecir  [0.52 0.27 0.39 0.14] -- [0 1 0]  predict:  [[0. 1. 0.]]\n",
      "predecir  [0.5  0.2  0.35 0.1 ] -- [0 1 0]  predict:  [[0. 1. 0.]]\n",
      "predecir  [0.59 0.3  0.42 0.15] -- [0 1 0]  predict:  [[0. 1. 0.]]\n",
      "predecir  [0.6  0.22 0.4  0.1 ] -- [0 1 0]  predict:  [[0. 1. 0.]]\n",
      "predecir  [0.61 0.29 0.47 0.14] -- [0 1 0]  predict:  [[0. 1. 0.]]\n",
      "predecir  [0.56 0.29 0.36 0.13] -- [0 1 0]  predict:  [[0. 1. 0.]]\n",
      "predecir  [0.67 0.31 0.44 0.14] -- [0 1 0]  predict:  [[0. 1. 0.]]\n",
      "predecir  [0.56 0.3  0.45 0.15] -- [0 1 0]  predict:  [[0. 1. 0.]]\n",
      "predecir  [0.58 0.27 0.41 0.1 ] -- [0 1 0]  predict:  [[0. 1. 0.]]\n",
      "predecir  [0.62 0.22 0.45 0.15] -- [0 1 0]  predict:  [[0. 0. 1.]]\n",
      "predecir  [0.56 0.25 0.39 0.11] -- [0 1 0]  predict:  [[0. 1. 0.]]\n",
      "predecir  [0.59 0.32 0.48 0.18] -- [0 1 0]  predict:  [[0. 0. 1.]]\n",
      "predecir  [0.61 0.28 0.4  0.13] -- [0 1 0]  predict:  [[0. 1. 0.]]\n",
      "predecir  [0.63 0.25 0.49 0.15] -- [0 1 0]  predict:  [[0. 0. 1.]]\n",
      "predecir  [0.61 0.28 0.47 0.12] -- [0 1 0]  predict:  [[0. 1. 0.]]\n",
      "predecir  [0.64 0.29 0.43 0.13] -- [0 1 0]  predict:  [[0. 1. 0.]]\n",
      "predecir  [0.66 0.3  0.44 0.14] -- [0 1 0]  predict:  [[0. 1. 0.]]\n",
      "predecir  [0.68 0.28 0.48 0.14] -- [0 1 0]  predict:  [[0. 1. 0.]]\n",
      "predecir  [0.67 0.3  0.5  0.17] -- [0 1 0]  predict:  [[0. 0. 1.]]\n",
      "predecir  [0.6  0.29 0.45 0.15] -- [0 1 0]  predict:  [[0. 1. 0.]]\n",
      "predecir  [0.57 0.26 0.35 0.1 ] -- [0 1 0]  predict:  [[0. 1. 0.]]\n",
      "predecir  [0.55 0.24 0.38 0.11] -- [0 1 0]  predict:  [[0. 1. 0.]]\n",
      "predecir  [0.55 0.24 0.37 0.1 ] -- [0 1 0]  predict:  [[0. 1. 0.]]\n",
      "predecir  [0.58 0.27 0.39 0.12] -- [0 1 0]  predict:  [[0. 1. 0.]]\n",
      "predecir  [0.6  0.27 0.51 0.16] -- [0 1 0]  predict:  [[0. 0. 1.]]\n",
      "predecir  [0.54 0.3  0.45 0.15] -- [0 1 0]  predict:  [[0. 1. 0.]]\n",
      "predecir  [0.6  0.34 0.45 0.16] -- [0 1 0]  predict:  [[0. 1. 0.]]\n",
      "predecir  [0.67 0.31 0.47 0.15] -- [0 1 0]  predict:  [[0. 1. 0.]]\n",
      "predecir  [0.63 0.23 0.44 0.13] -- [0 1 0]  predict:  [[0. 1. 0.]]\n",
      "predecir  [0.56 0.3  0.41 0.13] -- [0 1 0]  predict:  [[0. 1. 0.]]\n",
      "predecir  [0.55 0.25 0.4  0.13] -- [0 1 0]  predict:  [[0. 1. 0.]]\n",
      "predecir  [0.55 0.26 0.44 0.12] -- [0 1 0]  predict:  [[0. 1. 0.]]\n",
      "predecir  [0.61 0.3  0.46 0.14] -- [0 1 0]  predict:  [[0. 1. 0.]]\n",
      "predecir  [0.58 0.26 0.4  0.12] -- [0 1 0]  predict:  [[0. 1. 0.]]\n",
      "predecir  [0.5  0.23 0.33 0.1 ] -- [0 1 0]  predict:  [[0. 1. 0.]]\n",
      "predecir  [0.56 0.27 0.42 0.13] -- [0 1 0]  predict:  [[0. 1. 0.]]\n",
      "predecir  [0.57 0.3  0.42 0.12] -- [0 1 0]  predict:  [[0. 1. 0.]]\n",
      "predecir  [0.57 0.29 0.42 0.13] -- [0 1 0]  predict:  [[0. 1. 0.]]\n",
      "predecir  [0.62 0.29 0.43 0.13] -- [0 1 0]  predict:  [[0. 1. 0.]]\n",
      "predecir  [0.51 0.25 0.3  0.11] -- [0 1 0]  predict:  [[0. 1. 0.]]\n",
      "predecir  [0.57 0.28 0.41 0.13] -- [0 1 0]  predict:  [[0. 1. 0.]]\n",
      "predecir  [0.63 0.33 0.6  0.25] -- [0 0 1]  predict:  [[0. 0. 1.]]\n",
      "predecir  [0.58 0.27 0.51 0.19] -- [0 0 1]  predict:  [[0. 0. 1.]]\n",
      "predecir  [0.71 0.3  0.59 0.21] -- [0 0 1]  predict:  [[0. 0. 1.]]\n",
      "predecir  [0.63 0.29 0.56 0.18] -- [0 0 1]  predict:  [[0. 0. 1.]]\n",
      "predecir  [0.65 0.3  0.58 0.22] -- [0 0 1]  predict:  [[0. 0. 1.]]\n",
      "predecir  [0.76 0.3  0.66 0.21] -- [0 0 1]  predict:  [[0. 0. 1.]]\n",
      "predecir  [0.49 0.25 0.45 0.17] -- [0 0 1]  predict:  [[0. 0. 1.]]\n",
      "predecir  [0.73 0.29 0.63 0.18] -- [0 0 1]  predict:  [[0. 0. 1.]]\n",
      "predecir  [0.67 0.25 0.58 0.18] -- [0 0 1]  predict:  [[0. 0. 1.]]\n",
      "predecir  [0.72 0.36 0.61 0.25] -- [0 0 1]  predict:  [[0. 0. 1.]]\n",
      "predecir  [0.65 0.32 0.51 0.2 ] -- [0 0 1]  predict:  [[0. 0. 1.]]\n",
      "predecir  [0.64 0.27 0.53 0.19] -- [0 0 1]  predict:  [[0. 0. 1.]]\n",
      "predecir  [0.68 0.3  0.55 0.21] -- [0 0 1]  predict:  [[0. 0. 1.]]\n",
      "predecir  [0.57 0.25 0.5  0.2 ] -- [0 0 1]  predict:  [[0. 0. 1.]]\n",
      "predecir  [0.58 0.28 0.51 0.24] -- [0 0 1]  predict:  [[0. 0. 1.]]\n",
      "predecir  [0.64 0.32 0.53 0.23] -- [0 0 1]  predict:  [[0. 0. 1.]]\n",
      "predecir  [0.65 0.3  0.55 0.18] -- [0 0 1]  predict:  [[0. 0. 1.]]\n",
      "predecir  [0.77 0.38 0.67 0.22] -- [0 0 1]  predict:  [[0. 0. 1.]]\n",
      "predecir  [0.77 0.26 0.69 0.23] -- [0 0 1]  predict:  [[0. 0. 1.]]\n",
      "predecir  [0.6  0.22 0.5  0.15] -- [0 0 1]  predict:  [[0. 0. 1.]]\n",
      "predecir  [0.69 0.32 0.57 0.23] -- [0 0 1]  predict:  [[0. 0. 1.]]\n",
      "predecir  [0.56 0.28 0.49 0.2 ] -- [0 0 1]  predict:  [[0. 0. 1.]]\n",
      "predecir  [0.77 0.28 0.67 0.2 ] -- [0 0 1]  predict:  [[0. 0. 1.]]\n",
      "predecir  [0.63 0.27 0.49 0.18] -- [0 0 1]  predict:  [[0. 0. 1.]]\n",
      "predecir  [0.67 0.33 0.57 0.21] -- [0 0 1]  predict:  [[0. 0. 1.]]\n",
      "predecir  [0.72 0.32 0.6  0.18] -- [0 0 1]  predict:  [[0. 0. 1.]]\n",
      "predecir  [0.62 0.28 0.48 0.18] -- [0 0 1]  predict:  [[0. 0. 1.]]\n",
      "predecir  [0.61 0.3  0.49 0.18] -- [0 0 1]  predict:  [[0. 0. 1.]]\n",
      "predecir  [0.64 0.28 0.56 0.21] -- [0 0 1]  predict:  [[0. 0. 1.]]\n",
      "predecir  [0.72 0.3  0.58 0.16] -- [0 0 1]  predict:  [[0. 0. 1.]]\n",
      "predecir  [0.74 0.28 0.61 0.19] -- [0 0 1]  predict:  [[0. 0. 1.]]\n",
      "predecir  [0.79 0.38 0.64 0.2 ] -- [0 0 1]  predict:  [[0. 0. 1.]]\n",
      "predecir  [0.64 0.28 0.56 0.22] -- [0 0 1]  predict:  [[0. 0. 1.]]\n",
      "predecir  [0.63 0.28 0.51 0.15] -- [0 0 1]  predict:  [[0. 0. 1.]]\n",
      "predecir  [0.61 0.26 0.56 0.14] -- [0 0 1]  predict:  [[0. 0. 1.]]\n",
      "predecir  [0.77 0.3  0.61 0.23] -- [0 0 1]  predict:  [[0. 0. 1.]]\n",
      "predecir  [0.63 0.34 0.56 0.24] -- [0 0 1]  predict:  [[0. 0. 1.]]\n",
      "predecir  [0.64 0.31 0.55 0.18] -- [0 0 1]  predict:  [[0. 0. 1.]]\n",
      "predecir  [0.6  0.3  0.48 0.18] -- [0 0 1]  predict:  [[0. 0. 1.]]\n",
      "predecir  [0.69 0.31 0.54 0.21] -- [0 0 1]  predict:  [[0. 0. 1.]]\n",
      "predecir  [0.67 0.31 0.56 0.24] -- [0 0 1]  predict:  [[0. 0. 1.]]\n",
      "predecir  [0.69 0.31 0.51 0.23] -- [0 0 1]  predict:  [[0. 0. 1.]]\n",
      "predecir  [0.58 0.27 0.51 0.19] -- [0 0 1]  predict:  [[0. 0. 1.]]\n",
      "predecir  [0.68 0.32 0.59 0.23] -- [0 0 1]  predict:  [[0. 0. 1.]]\n",
      "predecir  [0.67 0.33 0.57 0.25] -- [0 0 1]  predict:  [[0. 0. 1.]]\n",
      "predecir  [0.67 0.3  0.52 0.23] -- [0 0 1]  predict:  [[0. 0. 1.]]\n",
      "predecir  [0.63 0.25 0.5  0.19] -- [0 0 1]  predict:  [[0. 0. 1.]]\n",
      "predecir  [0.65 0.3  0.52 0.2 ] -- [0 0 1]  predict:  [[0. 0. 1.]]\n",
      "predecir  [0.62 0.34 0.54 0.23] -- [0 0 1]  predict:  [[0. 0. 1.]]\n",
      "predecir  [0.59 0.3  0.51 0.18] -- [0 0 1]  predict:  [[0. 0. 1.]]\n",
      "::::::::::::::::::::::::::::\n"
     ]
    }
   ],
   "source": [
    "# VISUALIZACIÓN Y TEST\n",
    "#  ahora podemos interrogar. el primer valor es el bias\n",
    "def print_predict(X,Y):\n",
    "    for i in range(len(X)):\n",
    "        sal=np.round(predict(neural_n,X[i]))\n",
    "        print(\"predecir \",X[i],\"--\",Y[i],\" predict: \",sal)\n",
    "\n",
    "print_predict(Xtrain,Ytrain)\n",
    "print(\"::::::::::::::::::::::::::::\")\n",
    "\n",
    "\n"
   ]
  },
  {
   "cell_type": "code",
   "execution_count": null,
   "metadata": {},
   "outputs": [],
   "source": []
  },
  {
   "cell_type": "code",
   "execution_count": null,
   "metadata": {},
   "outputs": [],
   "source": []
  }
 ],
 "metadata": {
  "kernelspec": {
   "display_name": "Python 3",
   "language": "python",
   "name": "python3"
  },
  "language_info": {
   "codemirror_mode": {
    "name": "ipython",
    "version": 3
   },
   "file_extension": ".py",
   "mimetype": "text/x-python",
   "name": "python",
   "nbconvert_exporter": "python",
   "pygments_lexer": "ipython3",
   "version": "3.6.7"
  }
 },
 "nbformat": 4,
 "nbformat_minor": 2
}
